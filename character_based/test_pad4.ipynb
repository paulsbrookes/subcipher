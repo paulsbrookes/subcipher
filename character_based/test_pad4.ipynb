{
 "cells": [
  {
   "cell_type": "code",
   "execution_count": 89,
   "metadata": {
    "collapsed": false
   },
   "outputs": [
    {
     "data": {
      "text/plain": [
       "88"
      ]
     },
     "execution_count": 89,
     "metadata": {},
     "output_type": "execute_result"
    }
   ],
   "source": [
    "encrypted_message.group_frequencies(2)\n",
    "np.sum(encrypted_message.rates[0] != 0)"
   ]
  },
  {
   "cell_type": "code",
   "execution_count": null,
   "metadata": {
    "collapsed": false
   },
   "outputs": [],
   "source": []
  },
  {
   "cell_type": "code",
   "execution_count": null,
   "metadata": {
    "collapsed": false
   },
   "outputs": [],
   "source": []
  },
  {
   "cell_type": "code",
   "execution_count": 9,
   "metadata": {
    "collapsed": false
   },
   "outputs": [
    {
     "name": "stdout",
     "output_type": "stream",
     "text": [
      "botixe nuek feoe borluneo nuai gtdrsuem suredms ldtfril frnu nuero tfi uean byoiril beurim a jerd th sctwe orsril hotc nue moaltis itsnords nue drlun th vyeinkis ntopu fasuem tjeo spades th maow loeei nue loeei th ctss ri nue meeg fttms an mysw qysn behtoe nue dasn drlun hames \n",
      "botixe nuek feoe borluneo nuai gtdrsuem suredms ldtfril frnu nuero tfi uean byoiril beurim a jerd th sctwe orsril hotc nue moaltis itsnords nue drlun th vyeinkis ntopu fasuem tjeo spades th maow loeei nue loeei th ctss ri nue meeg fttms an mysw qysn behtoe nue dasn drlun hames \n"
     ]
    }
   ],
   "source": [
    "from functions import remove_duplicates, metric_function, key_proliferation_swap, best_keys, proliferation_generator, key_proliferation, metric_function2\n",
    "from functions import quadruplet_dictionary_metric, triplet_dictionary_metric, dict_metric_generator, pair_metric\n",
    "import numpy as np\n",
    "from message import Message\n",
    "from key import Key\n",
    "from key_group import Key_Group\n",
    "\n",
    "with open('sample.txt','r') as source:\n",
    "    my_sample = source.read()\n",
    "with open('message3.txt','r') as source:\n",
    "    my_message = source.read()\n",
    "    \n",
    "natural_sample = Message(my_sample)\n",
    "natural_sample = natural_sample.filter()\n",
    "original_message = Message(my_message)\n",
    "original_message = original_message.filter()\n",
    "\n",
    "\n",
    "#encryption_key = Key(np.arange(27))\n",
    "encryption_key = Key(np.array([0, 1, 6, 3, 2, 9 , 5 , 7, 13,  4, 14 ,10, 19 ,18 ,12 ,16, 8,11, 22, 17, 20, 23, 15, 25, 26, 21, 24]))\n",
    "#for i in range(1500):\n",
    "#    encryption_key.pair_scramble()\n",
    "encrypted_message = original_message.map(encryption_key)\n",
    "\n",
    "natural_frequencies = natural_sample.frequencies()\n",
    "observed_frequencies = encrypted_message.frequencies()\n",
    "natural_sample.group_frequencies(2)\n",
    "natural_sample.group_frequencies(3)\n",
    "natural_sample.group_frequencies(4)\n",
    "#natural_sample.group_frequencies(5)\n",
    "\n",
    "print encrypted_message.text\n",
    "\n",
    "freq_attempt = Key()\n",
    "freq_attempt.frequency_key(natural_frequencies, observed_frequencies)\n",
    "trial_map = np.arange(27)\n",
    "#trial_map[26] = freq_attempt.map[26]\n",
    "#trial_map[freq_attempt.map[26]] = 26\n",
    "decryption_attempt = Key(trial_map)\n",
    "#decryption_attempt = freq_attempt.invert()\n",
    "#decryption_attempt = encryption_key.invert()\n",
    "\n",
    "new_keys = [decryption_attempt]\n",
    "key_group = Key_Group(new_keys,encrypted_message,natural_sample)\n",
    "\n",
    "decrypted_message = encrypted_message.map(new_keys[0])\n",
    "print decrypted_message.text\n",
    "\n",
    "key_group1 = Key_Group(new_keys,encrypted_message,natural_sample)\n",
    "key_group2 = Key_Group(new_keys,encrypted_message,natural_sample)"
   ]
  },
  {
   "cell_type": "code",
   "execution_count": null,
   "metadata": {
    "collapsed": true
   },
   "outputs": [],
   "source": []
  },
  {
   "cell_type": "code",
   "execution_count": 28,
   "metadata": {
    "collapsed": false
   },
   "outputs": [
    {
     "name": "stdout",
     "output_type": "stream",
     "text": [
      "ble lan hees hors a timmy at rugerris war to tle boitl os tle ren word ow tle trunest \n",
      "[ 0  7 23 13  4 22 10 11 20 21  3 12 25 18 14  2 16 17  1 19  8  6 15  9 24\n",
      "  5 26]\n",
      "11\n",
      "0\n"
     ]
    }
   ],
   "source": [
    "for i in range(5):\n",
    "    key_group1.advance([proliferation_generator(i) for i in [2,3,4]], dict_metric_generator(5,5e-6), 5)\n",
    "    key_group1.advance([key_proliferation_swap], dict_metric_generator(2,5e-6), 3)\n",
    "    #key_group1.advance([key_proliferation_swap], quadruplet_dictionary_metric, 30)\n",
    "decrypted_message = encrypted_message.map(key_group1.keys[0])\n",
    "print decrypted_message.text\n",
    "result = encryption_key.substitute(key_group1.keys[0])\n",
    "print result.map\n",
    "print quadruplet_dictionary_metric(decrypted_message, natural_sample)\n",
    "print quadruplet_dictionary_metric(original_message, natural_sample)"
   ]
  },
  {
   "cell_type": "code",
   "execution_count": 13,
   "metadata": {
    "collapsed": false
   },
   "outputs": [
    {
     "name": "stdout",
     "output_type": "stream",
     "text": [
      "bronze thel were brayhter thin podasheg shaedgs ydowany wath thear own heit burnany behang i vead of smoke rasany from the griyons nostrads the dayht of quentlns torch wisheg over scides of girk yreen the yreen of moss an the geep woogs it gusk just before the dist dayht figes \n",
      "[ 0  1  2  5  4  3  6  7  8  9 17 10 12 13 14 15 16 18 11 19 20 21 22 23 24\n",
      " 25 26]\n",
      "43\n",
      "1\n"
     ]
    }
   ],
   "source": [
    "for i in range(5):\n",
    "    #key_group1.advance([proliferation_generator(i) for i in [2,3,4]], dict_metric_generator(4,5e-6), 5)\n",
    "    key_group1.advance([key_proliferation_swap], dict_metric_generator(4,5e-6), 20)\n",
    "    #key_group1.advance([key_proliferation_swap], quadruplet_dictionary_metric, 30)\n",
    "decrypted_message = encrypted_message.map(key_group1.keys[0])\n",
    "print decrypted_message.text\n",
    "result = encryption_key.substitute(key_group1.keys[0])\n",
    "print result.map\n",
    "print quadruplet_dictionary_metric(decrypted_message, natural_sample)\n",
    "print quadruplet_dictionary_metric(original_message, natural_sample)"
   ]
  },
  {
   "cell_type": "code",
   "execution_count": 10,
   "metadata": {
    "collapsed": false
   },
   "outputs": [
    {
     "name": "stdout",
     "output_type": "stream",
     "text": [
      "batize nuek reae badgunea nusi ftldouem oudelmo gltrdig rdnu nueda tri uesn byaidig beudim s jedl th octwe adodig hatc nue masgtio itonadlo nue ldgun th qyeinkio ntapu rsouem tjea opsleo th msaw gaeei nue gaeei th ctoo di nue meef rttmo sn myow vyon behtae nue lson ldgun hsmeo \n",
      "[ 0  1  6  7  2 10  5  4 13  3 14 11 19 18 12  9  8 17 22 16 20 23 15 21 24\n",
      " 25 26]\n"
     ]
    }
   ],
   "source": [
    "for i in range(10):\n",
    "    key_group1.advance([proliferation_generator(i) for i in [2,3,4]], pair_metric, 10)\n",
    "    key_group1.advance([key_proliferation_swap], pair_metric, 10)\n",
    "    \n",
    "decrypted_message = encrypted_message.map(key_group1.keys[0])\n",
    "print decrypted_message.text\n",
    "result = encryption_key.substitute(key_group1.keys[0])\n",
    "print result.map"
   ]
  },
  {
   "cell_type": "code",
   "execution_count": 14,
   "metadata": {
    "collapsed": false
   },
   "outputs": [
    {
     "name": "stdout",
     "output_type": "stream",
     "text": [
      "cloaxe sheb tele clynhsel shia podyrheg rhyedgr ndotyan tysh sheyl ota heis culayan cehyag i veyd om rfowe lyryan mlof she glinoar aorslydr she dynhs om jueasbar solkh tirheg ovel rkider om gilw nleea she nleea om forr ya she geep toogr is gurw qurs cemole she dirs dynhs miger \n",
      "[ 0  1  7  5  4 18  3  9  8 11 17 10 22 13 16  2 14  6 20 19 12 21 15 25 26\n",
      " 23 24]\n"
     ]
    }
   ],
   "source": [
    "import time\n",
    "for i in range(5):\n",
    "    v = time.time()\n",
    "    key_group2.proliferate([proliferation_generator(i) for i in [2,3,4]],10)\n",
    "    w = time.time()\n",
    "    key_group2.rank(pair_metric)\n",
    "    x = time.time()\n",
    "    key_group2.proliferate([key_proliferation_swap],10)\n",
    "    y = time.time()\n",
    "    key_group2.rank(pair_metric)\n",
    "    z = time.time()\n",
    "    #print \"%.20f\" % (w-v), (x-w), (y-x), (z-y)\n",
    "\n",
    "decrypted_message = encrypted_message.map(key_group2.keys[0])\n",
    "print decrypted_message.text\n",
    "result = encryption_key.substitute(key_group2.keys[0])\n",
    "print result.map"
   ]
  },
  {
   "cell_type": "code",
   "execution_count": 6,
   "metadata": {
    "collapsed": false
   },
   "outputs": [
    {
     "name": "stdout",
     "output_type": "stream",
     "text": [
      "[14  6 15  7  4  5 13  8 17 25  2 22 20 19 11 10 16 18 26 12 24 21  3 23  1\n",
      "  9  0]\n"
     ]
    }
   ],
   "source": [
    "result = encryption_key.substitute(key_group2.keys[0])\n",
    "print result.map"
   ]
  },
  {
   "cell_type": "code",
   "execution_count": 7,
   "metadata": {
    "collapsed": false
   },
   "outputs": [
    {
     "name": "stdout",
     "output_type": "stream",
     "text": [
      "[14  6 15  7  4  5 13  8 17 25 20 22  2 19 11 10 16 18 26 12 24 21  3 23  1\n",
      "  9  0]\n"
     ]
    }
   ],
   "source": [
    "result = encryption_key.substitute(key_group2.keys[1])\n",
    "print result.map"
   ]
  },
  {
   "cell_type": "code",
   "execution_count": 6,
   "metadata": {
    "collapsed": false
   },
   "outputs": [
    {
     "name": "stdout",
     "output_type": "stream",
     "text": [
      "ctoize myep bete ctanymet myri lodasyeg syaedgs ndobain bamy myeat obi yerm cutiain ceyaig r vead of skowe tasain ftok mye gtrnois iosmtads mye danym of queimpis mothy brsyeg ovet shrdes of grtw nteei mye nteei of koss ai mye geel boogs rm gusw jusm cefote mye drsm danym frges \n",
      "[ 0  1 14  9  4  3  5  7 18  2 17 10  8 13 22 20 16  6 19 11 12 21 15 23 24\n",
      " 25 26]\n"
     ]
    }
   ],
   "source": [
    "for i in range(10):\n",
    "    #key_group2.advance([proliferation_generator(i) for i in [2,3,4]], pair_metric, 5)\n",
    "    key_group2.advance([key_proliferation_swap], pair_metric, 5)\n",
    "    \n",
    "decrypted_message = encrypted_message.map(key_group2.keys[0])\n",
    "print decrypted_message.text\n",
    "result = encryption_key.substitute(key_group2.keys[0])\n",
    "print result.map"
   ]
  },
  {
   "cell_type": "code",
   "execution_count": 11,
   "metadata": {
    "collapsed": false
   },
   "outputs": [
    {
     "name": "stdout",
     "output_type": "stream",
     "text": [
      "valize stem ueae vangtsea stri fldnotec otnedco gdlunig unst stena lui ters vhainig vetnic r bend ly oplke anonig yalp ste carglio ilosando ste dngts ly wheismio slaxt urotec lbea oxrdeo ly crak gaeei ste gaeei ly ploo ni ste ceef ullco rs chok jhos veylae ste dros dngts yrceo \n",
      "[ 0  1  7  9 11  6  5  4  2  3 12 10 24  8 19 13 18 17 14 16 21 20 22 23 25\n",
      " 15 26]\n"
     ]
    }
   ],
   "source": [
    "for i in range(10):\n",
    "    key_group1.advance([proliferation_generator(i) for i in [2,3,4]], dict_metric_generator(3,5e-8), 10)\n",
    "    key_group1.advance([key_proliferation_swap], dict_metric_generator(3,5e-8), 3)\n",
    "decrypted_message = encrypted_message.map(key_group1.keys[0])\n",
    "print decrypted_message.text\n",
    "result = encryption_key.substitute(key_group1.keys[0])\n",
    "print result.map"
   ]
  },
  {
   "cell_type": "code",
   "execution_count": 77,
   "metadata": {
    "collapsed": false
   },
   "outputs": [
    {
     "name": "stdout",
     "output_type": "stream",
     "text": [
      "ice sooyer stinciosem std ice itlledi icarp icad daye of ice bouritard madarp iserig feei thove ice happedi deriareld try dolyaem wared ar ice dummouryarp sooyd \n",
      "[19  7 13 24  4  5 15  2  0  9 16 11  1 17 14 22 23 12  3  8 20 21 18 10  6\n",
      " 25 26]\n"
     ]
    }
   ],
   "source": [
    "for i in range(40):\n",
    "    #key_group1.advance([proliferation_generator(i) for i in [2,3,4]], metric_function, 10)\n",
    "    key_group1.advance([key_proliferation_swap], metric_function, 20)\n",
    "    \n",
    "decrypted_message = encrypted_message.map(key_group1.keys[0])\n",
    "print decrypted_message.text\n",
    "result = encryption_key.substitute(key_group1.keys[0])\n",
    "print result.map"
   ]
  },
  {
   "cell_type": "code",
   "execution_count": null,
   "metadata": {
    "collapsed": false
   },
   "outputs": [],
   "source": []
  },
  {
   "cell_type": "code",
   "execution_count": 17,
   "metadata": {
    "collapsed": false
   },
   "outputs": [
    {
     "name": "stdout",
     "output_type": "stream",
     "text": [
      "she hyd beeo bnro y tullz yt riverruo fyr tn the snuth no the red fnrk nf the trideot \n",
      "[24  1  2  3  4  5  6  7  8  9 10 11 12 14 13 15 16 17 18 19 20 21 22 23 25\n",
      "  0 26]\n"
     ]
    }
   ],
   "source": [
    "natural_sample.quadruplet_frequencies()\n",
    "for i in range(5):\n",
    "    key_group2.advance([proliferation_generator(i) for i in [2,3,4]], dict_metric_generator(4,5e-14), 1)\n",
    "    #key_group2.advance([key_proliferation_swap], dict_metric_generator(4,5e-8), 3)\n",
    "decrypted_message = encrypted_message.map(key_group2.keys[0])\n",
    "print decrypted_message.text\n",
    "result = encryption_key.substitute(key_group2.keys[0])\n",
    "print result.map"
   ]
  },
  {
   "cell_type": "code",
   "execution_count": 9,
   "metadata": {
    "collapsed": false
   },
   "outputs": [
    {
     "data": {
      "text/plain": [
       "1.7887127752102296e-05"
      ]
     },
     "execution_count": 9,
     "metadata": {},
     "output_type": "execute_result"
    }
   ],
   "source": [
    "from message import Message\n",
    "with open('sample.txt','r') as source:\n",
    "    test_file = source.read()\n",
    "    \n",
    "test_message = Message(test_file)\n",
    "test_message.filter()\n",
    "test_message.quadruplet_frequencies()\n",
    "test_message.rates[(5, 14, 17, 10)]"
   ]
  },
  {
   "cell_type": "code",
   "execution_count": 19,
   "metadata": {
    "collapsed": false
   },
   "outputs": [],
   "source": [
    "import random\n",
    "metric_list = [random.random() for x in range(1000)]\n",
    "metric_array = np.array(metric_list)"
   ]
  },
  {
   "cell_type": "code",
   "execution_count": 18,
   "metadata": {
    "collapsed": false
   },
   "outputs": [
    {
     "name": "stdout",
     "output_type": "stream",
     "text": [
      "10000 loops, best of 3: 71.7 µs per loop\n"
     ]
    }
   ],
   "source": [
    "%%timeit\n",
    "a = np.argsort(metric_list)"
   ]
  },
  {
   "cell_type": "code",
   "execution_count": 20,
   "metadata": {
    "collapsed": false
   },
   "outputs": [
    {
     "name": "stdout",
     "output_type": "stream",
     "text": [
      "10000 loops, best of 3: 38.1 µs per loop\n"
     ]
    }
   ],
   "source": [
    "%%timeit\n",
    "a = np.argsort(metric_array)"
   ]
  },
  {
   "cell_type": "code",
   "execution_count": 14,
   "metadata": {
    "collapsed": false
   },
   "outputs": [
    {
     "name": "stdout",
     "output_type": "stream",
     "text": [
      "0.00000000000000000000\n"
     ]
    }
   ],
   "source": [
    "x = time.time()\n",
    "a = np.argsort([1,3,4])\n",
    "y = time.time()\n",
    "print \"%.20f\" % (y-x)"
   ]
  },
  {
   "cell_type": "code",
   "execution_count": 3,
   "metadata": {
    "collapsed": false
   },
   "outputs": [
    {
     "name": "stdout",
     "output_type": "stream",
     "text": [
      "she had ween worn a tully at riverrun far to the south on the red fork of the trident \n",
      "[ 0 22  2  3  4  5  6  7  8  9 10 11 12 13 14 15 16 17 18 19 20 21  1 23 24\n",
      " 25 26]\n"
     ]
    }
   ],
   "source": [
    "natural_sample.triplet_frequencies()\n",
    "for i in range(1):\n",
    "    key_group1.advance([proliferation_generator(i) for i in [2,3,4]], metric_function, 10)\n",
    "    key_group1.advance([key_proliferation_swap], metric_function, 3)\n",
    "decrypted_message = encrypted_message.map(key_group1.keys[0])\n",
    "print decrypted_message.text\n",
    "result = encryption_key.substitute(key_group1.keys[0])\n",
    "print result.map"
   ]
  },
  {
   "cell_type": "code",
   "execution_count": 19,
   "metadata": {
    "collapsed": false
   },
   "outputs": [
    {
     "data": {
      "text/plain": [
       "[0, 1, 2, 3]"
      ]
     },
     "execution_count": 19,
     "metadata": {},
     "output_type": "execute_result"
    }
   ],
   "source": [
    "range(4)"
   ]
  },
  {
   "cell_type": "code",
   "execution_count": null,
   "metadata": {
    "collapsed": true
   },
   "outputs": [],
   "source": []
  },
  {
   "cell_type": "code",
   "execution_count": 11,
   "metadata": {
    "collapsed": false
   },
   "outputs": [
    {
     "name": "stdout",
     "output_type": "stream",
     "text": [
      "she had been born a tummx at rjverrun far to the south on the red fork of the trjdent \n",
      "[ 0 22  6  3  4  5  1  7  8  9 18 11 15 14 13 10 12 17  2 19 20 21 16 23 24\n",
      " 25 26]\n"
     ]
    }
   ],
   "source": [
    "for i in range(10):\n",
    "    key_group2.advance([proliferation_generator(i) for i in [2,3,4]], dict_metric_generator(3,5e-8), 10)\n",
    "    key_group2.advance([key_proliferation_swap], dict_metric_generator(3,5e-8), 3)\n",
    "decrypted_message = encrypted_message.map(key_group2.keys[0])\n",
    "print decrypted_message.text\n",
    "result = encryption_key.substitute(key_group2.keys[0])\n",
    "print result.map"
   ]
  },
  {
   "cell_type": "code",
   "execution_count": 39,
   "metadata": {
    "collapsed": false
   },
   "outputs": [
    {
     "name": "stdout",
     "output_type": "stream",
     "text": [
      "7.89952192123\n",
      "67135.6866491\n"
     ]
    }
   ],
   "source": [
    "func1 = dict_metric_generator(4,1e1)\n",
    "func2 = dict_metric_generator(4,1e-3)\n",
    "print func1(decrypted_message,natural_sample)\n",
    "print func2(decrypted_message,natural_sample)"
   ]
  },
  {
   "cell_type": "code",
   "execution_count": 52,
   "metadata": {
    "collapsed": false
   },
   "outputs": [
    {
     "name": "stdout",
     "output_type": "stream",
     "text": [
      "19646\n",
      "1.0\n"
     ]
    },
    {
     "data": {
      "text/plain": [
       "5.0900946757609692e-05"
      ]
     },
     "execution_count": 52,
     "metadata": {},
     "output_type": "execute_result"
    }
   ],
   "source": [
    "print np.sum(natural_sample.rates != 0)\n",
    "print np.sum(natural_sample.rates)\n",
    "np.sum(natural_sample.rates)/np.sum(natural_sample.rates != 0)"
   ]
  },
  {
   "cell_type": "code",
   "execution_count": null,
   "metadata": {
    "collapsed": false
   },
   "outputs": [],
   "source": [
    "for i in range(50):\n",
    "    key_group.advance([proliferation_generator(i) for i in [2,3,4]], metric_function, 20)\n",
    "    key_group.advance([key_proliferation_swap], metric_function, 3)\n",
    "decrypted_message = encrypted_message.map(key_group.keys[0])\n",
    "decrypted_message.text"
   ]
  },
  {
   "cell_type": "code",
   "execution_count": 50,
   "metadata": {
    "collapsed": false
   },
   "outputs": [
    {
     "data": {
      "text/plain": [
       "'she had beeo bnro a tully at riverruo far tn the snuth no the red fnrk nf the trideot '"
      ]
     },
     "execution_count": 50,
     "metadata": {},
     "output_type": "execute_result"
    }
   ],
   "source": [
    "for i in range(1):\n",
    "    key_group.advance([proliferation_generator(i) for i in [2,3,4]], quadruplet_dictionary_metric, 20)\n",
    "    key_group.advance([key_proliferation_swap], quadruplet_dictionary_metric, 20)\n",
    "decrypted_message = encrypted_message.map(key_group.keys[0])\n",
    "decrypted_message.text"
   ]
  },
  {
   "cell_type": "code",
   "execution_count": 7,
   "metadata": {
    "collapsed": false
   },
   "outputs": [],
   "source": [
    "a= np.arange(1000,dtype=np.int8)\n",
    "b = np.arange(1000,dtype=np.int32)"
   ]
  },
  {
   "cell_type": "code",
   "execution_count": 9,
   "metadata": {
    "collapsed": false
   },
   "outputs": [
    {
     "name": "stdout",
     "output_type": "stream",
     "text": [
      "10000 loops, best of 3: 39 µs per loop\n"
     ]
    }
   ],
   "source": [
    "%%timeit\n",
    "for i in a:\n",
    "    pass"
   ]
  },
  {
   "cell_type": "code",
   "execution_count": 10,
   "metadata": {
    "collapsed": false
   },
   "outputs": [
    {
     "name": "stdout",
     "output_type": "stream",
     "text": [
      "10000 loops, best of 3: 39.5 µs per loop\n"
     ]
    }
   ],
   "source": [
    "%%timeit\n",
    "for i in b:\n",
    "    pass"
   ]
  },
  {
   "cell_type": "code",
   "execution_count": 38,
   "metadata": {
    "collapsed": true
   },
   "outputs": [],
   "source": [
    "key_group = Key_Group(new_keys,encrypted_message,natural_sample)"
   ]
  },
  {
   "cell_type": "code",
   "execution_count": 4,
   "metadata": {
    "collapsed": false
   },
   "outputs": [
    {
     "data": {
      "text/plain": [
       "'she had beeo bnro a tully at riverruo far tn the snuth no the red fnrk nf the trideot '"
      ]
     },
     "execution_count": 4,
     "metadata": {},
     "output_type": "execute_result"
    }
   ],
   "source": [
    "for i in range(1):\n",
    "    key_group.advance([proliferation_generator(i) for i in [2,3,4]], dict_metric_generator(4,1e-12), 20)\n",
    "    key_group.advance([key_proliferation_swap], dict_metric_generator(4,1e-12), 20)\n",
    "decrypted_message = encrypted_message.map(key_group.keys[0])\n",
    "decrypted_message.text"
   ]
  },
  {
   "cell_type": "code",
   "execution_count": 7,
   "metadata": {
    "collapsed": false
   },
   "outputs": [
    {
     "data": {
      "text/plain": [
       "'she haf been born a tully at riwerrun dar to the south on the ref dork od the trifent '"
      ]
     },
     "execution_count": 7,
     "metadata": {},
     "output_type": "execute_result"
    }
   ],
   "source": [
    "decrypted_message = encrypted_message.map(key_group.keys[0])\n",
    "decrypted_message.text"
   ]
  },
  {
   "cell_type": "code",
   "execution_count": 5,
   "metadata": {
    "collapsed": false
   },
   "outputs": [
    {
     "name": "stdout",
     "output_type": "stream",
     "text": [
      "10 loops, best of 3: 89.7 ms per loop\n"
     ]
    }
   ],
   "source": [
    "%%timeit\n",
    "new_keys = [decryption_attempt]\n",
    "for i in range(1):\n",
    "    new_keys5 = key_proliferation_swap(new_keys)\n",
    "    new_key_list = new_keys5\n",
    "    new_keys = best_keys(new_key_list, encrypted_message, natural_sample, 1)\n",
    "    \n",
    "decrypted_message = encrypted_message.map(new_keys[0])\n",
    "decrypted_message.text"
   ]
  },
  {
   "cell_type": "code",
   "execution_count": 34,
   "metadata": {
    "collapsed": false
   },
   "outputs": [],
   "source": [
    "zero_map = np.arange(27)\n",
    "zero_key = Key(zero_map)\n",
    "zero_group = Key_Group([zero_key],original_message,natural_sample)"
   ]
  },
  {
   "cell_type": "code",
   "execution_count": 36,
   "metadata": {
    "collapsed": false
   },
   "outputs": [
    {
     "data": {
      "text/plain": [
       "'she had been born a tully at riverrun far to the south on the red fork of the trident '"
      ]
     },
     "execution_count": 36,
     "metadata": {},
     "output_type": "execute_result"
    }
   ],
   "source": [
    "for i in range(1):\n",
    "    zero_group.advance([proliferation_generator(i) for i in [2,3,4]], metric_function, 20)\n",
    "new_message = original_message.map(zero_group.keys[0])\n",
    "new_message.text"
   ]
  },
  {
   "cell_type": "code",
   "execution_count": null,
   "metadata": {
    "collapsed": false
   },
   "outputs": [],
   "source": [
    "new_message"
   ]
  },
  {
   "cell_type": "code",
   "execution_count": 17,
   "metadata": {
    "collapsed": false
   },
   "outputs": [
    {
     "name": "stdout",
     "output_type": "stream",
     "text": [
      "10000 loops, best of 3: 140 µs per loop\n"
     ]
    }
   ],
   "source": [
    "%%timeit\n",
    "encrypted_message.triplet_frequencies()"
   ]
  },
  {
   "cell_type": "code",
   "execution_count": 18,
   "metadata": {
    "collapsed": false
   },
   "outputs": [
    {
     "name": "stdout",
     "output_type": "stream",
     "text": [
      "100 loops, best of 3: 3.53 ms per loop\n"
     ]
    }
   ],
   "source": [
    "%%timeit\n",
    "encrypted_message.quadruplet_frequencies()"
   ]
  },
  {
   "cell_type": "code",
   "execution_count": null,
   "metadata": {
    "collapsed": false
   },
   "outputs": [],
   "source": []
  },
  {
   "cell_type": "code",
   "execution_count": null,
   "metadata": {
    "collapsed": false
   },
   "outputs": [],
   "source": []
  },
  {
   "cell_type": "code",
   "execution_count": null,
   "metadata": {
    "collapsed": false
   },
   "outputs": [],
   "source": []
  },
  {
   "cell_type": "code",
   "execution_count": 41,
   "metadata": {
    "collapsed": false
   },
   "outputs": [
    {
     "ename": "TypeError",
     "evalue": "unsupported operand type(s) for +: 'int' and 'list'",
     "output_type": "error",
     "traceback": [
      "\u001b[1;31m---------------------------------------------------------------------------\u001b[0m",
      "\u001b[1;31mTypeError\u001b[0m                                 Traceback (most recent call last)",
      "\u001b[1;32m<ipython-input-41-fc391cc0073c>\u001b[0m in \u001b[0;36m<module>\u001b[1;34m()\u001b[0m\n\u001b[1;32m----> 1\u001b[1;33m \u001b[0msum\u001b[0m\u001b[1;33m(\u001b[0m\u001b[1;33m[\u001b[0m\u001b[0ma\u001b[0m\u001b[1;33m,\u001b[0m\u001b[0mb\u001b[0m\u001b[1;33m]\u001b[0m\u001b[1;33m)\u001b[0m\u001b[1;33m\u001b[0m\u001b[0m\n\u001b[0m",
      "\u001b[1;31mTypeError\u001b[0m: unsupported operand type(s) for +: 'int' and 'list'"
     ]
    }
   ],
   "source": [
    "sum([a,b])"
   ]
  },
  {
   "cell_type": "code",
   "execution_count": null,
   "metadata": {
    "collapsed": false
   },
   "outputs": [],
   "source": []
  },
  {
   "cell_type": "code",
   "execution_count": null,
   "metadata": {
    "collapsed": true
   },
   "outputs": [],
   "source": []
  },
  {
   "cell_type": "code",
   "execution_count": 7,
   "metadata": {
    "collapsed": false
   },
   "outputs": [
    {
     "name": "stdout",
     "output_type": "stream",
     "text": [
      "1000 loops, best of 3: 232 µs per loop\n"
     ]
    }
   ],
   "source": [
    "%%timeit\n",
    "original_message.group_frequencies(2)"
   ]
  },
  {
   "cell_type": "code",
   "execution_count": null,
   "metadata": {
    "collapsed": false
   },
   "outputs": [],
   "source": []
  },
  {
   "cell_type": "code",
   "execution_count": null,
   "metadata": {
    "collapsed": false
   },
   "outputs": [],
   "source": []
  },
  {
   "cell_type": "code",
   "execution_count": null,
   "metadata": {
    "collapsed": false
   },
   "outputs": [],
   "source": []
  },
  {
   "cell_type": "code",
   "execution_count": 30,
   "metadata": {
    "collapsed": false
   },
   "outputs": [],
   "source": [
    "from message import Message\n",
    "\n",
    "with open('fragment.txt','r') as file:\n",
    "    text= file.read()\n",
    "    \n",
    "message = Message(text)\n",
    "message.filter()\n",
    "message.quadruplet_frequencies()"
   ]
  },
  {
   "cell_type": "code",
   "execution_count": 31,
   "metadata": {
    "collapsed": false
   },
   "outputs": [
    {
     "data": {
      "text/plain": [
       "1.0"
      ]
     },
     "execution_count": 31,
     "metadata": {},
     "output_type": "execute_result"
    }
   ],
   "source": [
    "message.rates[5,14,17,10]"
   ]
  },
  {
   "cell_type": "code",
   "execution_count": 32,
   "metadata": {
    "collapsed": false
   },
   "outputs": [
    {
     "name": "stdout",
     "output_type": "stream",
     "text": [
      "(5, 13, 17, 10)\n"
     ]
    }
   ],
   "source": [
    "group = 'fork'\n",
    "alpha = 'abcdefghijklmnopqrstuvwxyz '\n",
    "a = tuple([alpha.find(group[i]) for i in range(4)])\n",
    "print a"
   ]
  },
  {
   "cell_type": "code",
   "execution_count": 35,
   "metadata": {
    "collapsed": false
   },
   "outputs": [
    {
     "data": {
      "text/plain": [
       "13"
      ]
     },
     "execution_count": 35,
     "metadata": {},
     "output_type": "execute_result"
    }
   ],
   "source": [
    "alpha.find(group[1])"
   ]
  },
  {
   "cell_type": "code",
   "execution_count": null,
   "metadata": {
    "collapsed": false
   },
   "outputs": [],
   "source": [
    "%%timeit\n",
    "message.alt_frequencies()"
   ]
  },
  {
   "cell_type": "code",
   "execution_count": null,
   "metadata": {
    "collapsed": true
   },
   "outputs": [],
   "source": []
  },
  {
   "cell_type": "code",
   "execution_count": 9,
   "metadata": {
    "collapsed": false
   },
   "outputs": [],
   "source": [
    "original_message.quadruplet_frequencies()"
   ]
  },
  {
   "cell_type": "code",
   "execution_count": 10,
   "metadata": {
    "collapsed": false
   },
   "outputs": [],
   "source": [
    "original_message.quadruplet_frequency_dictionary()"
   ]
  },
  {
   "cell_type": "code",
   "execution_count": null,
   "metadata": {
    "collapsed": false
   },
   "outputs": [],
   "source": [
    "a = np.zeros(1)"
   ]
  },
  {
   "cell_type": "code",
   "execution_count": null,
   "metadata": {
    "collapsed": true
   },
   "outputs": [],
   "source": [
    "a"
   ]
  },
  {
   "cell_type": "code",
   "execution_count": null,
   "metadata": {
    "collapsed": true
   },
   "outputs": [],
   "source": []
  },
  {
   "cell_type": "code",
   "execution_count": null,
   "metadata": {
    "collapsed": false
   },
   "outputs": [],
   "source": []
  },
  {
   "cell_type": "code",
   "execution_count": 15,
   "metadata": {
    "collapsed": false
   },
   "outputs": [],
   "source": [
    "natural_sample.quadruplet_frequencies()"
   ]
  },
  {
   "cell_type": "code",
   "execution_count": 7,
   "metadata": {
    "collapsed": false
   },
   "outputs": [],
   "source": [
    "from functions import triplet_dictionary_metric, quadruplet_dictionary_metric"
   ]
  },
  {
   "cell_type": "code",
   "execution_count": 9,
   "metadata": {
    "collapsed": false
   },
   "outputs": [
    {
     "name": "stdout",
     "output_type": "stream",
     "text": [
      "10000 loops, best of 3: 186 µs per loop\n"
     ]
    }
   ],
   "source": [
    "%%timeit\n",
    "triplet_dictionary_metric(original_message, natural_sample)"
   ]
  },
  {
   "cell_type": "code",
   "execution_count": 16,
   "metadata": {
    "collapsed": false
   },
   "outputs": [
    {
     "name": "stdout",
     "output_type": "stream",
     "text": [
      "1000 loops, best of 3: 207 µs per loop\n"
     ]
    }
   ],
   "source": [
    "%%timeit\n",
    "quadruplet_dictionary_metric(original_message, natural_sample)"
   ]
  },
  {
   "cell_type": "code",
   "execution_count": 10,
   "metadata": {
    "collapsed": false
   },
   "outputs": [
    {
     "name": "stdout",
     "output_type": "stream",
     "text": [
      "1000 loops, best of 3: 201 µs per loop\n"
     ]
    }
   ],
   "source": [
    "%%timeit\n",
    "metric_function(original_message, natural_sample)"
   ]
  },
  {
   "cell_type": "code",
   "execution_count": 4,
   "metadata": {
    "collapsed": false
   },
   "outputs": [
    {
     "name": "stdout",
     "output_type": "stream",
     "text": [
      "1 loops, best of 3: 703 ms per loop\n"
     ]
    }
   ],
   "source": [
    "%%timeit\n",
    "for i in range(5):\n",
    "    key_group1.advance([proliferation_generator(i) for i in [2]], pair_metric, 10)"
   ]
  },
  {
   "cell_type": "code",
   "execution_count": 106,
   "metadata": {
    "collapsed": true
   },
   "outputs": [],
   "source": [
    "a = [1,1,1]"
   ]
  },
  {
   "cell_type": "code",
   "execution_count": 108,
   "metadata": {
    "collapsed": false
   },
   "outputs": [],
   "source": [
    "a.append(None)"
   ]
  },
  {
   "cell_type": "code",
   "execution_count": 109,
   "metadata": {
    "collapsed": false
   },
   "outputs": [
    {
     "data": {
      "text/plain": [
       "[1, 1, 1, None]"
      ]
     },
     "execution_count": 109,
     "metadata": {},
     "output_type": "execute_result"
    }
   ],
   "source": [
    "a"
   ]
  },
  {
   "cell_type": "code",
   "execution_count": null,
   "metadata": {
    "collapsed": false
   },
   "outputs": [],
   "source": []
  },
  {
   "cell_type": "code",
   "execution_count": null,
   "metadata": {
    "collapsed": true
   },
   "outputs": [],
   "source": []
  },
  {
   "cell_type": "code",
   "execution_count": null,
   "metadata": {
    "collapsed": false
   },
   "outputs": [],
   "source": []
  },
  {
   "cell_type": "code",
   "execution_count": 2,
   "metadata": {
    "collapsed": false
   },
   "outputs": [],
   "source": [
    "import numpy as np\n",
    "a = np.zeros([4,4])"
   ]
  },
  {
   "cell_type": "code",
   "execution_count": 4,
   "metadata": {
    "collapsed": false
   },
   "outputs": [
    {
     "data": {
      "text/plain": [
       "4L"
      ]
     },
     "execution_count": 4,
     "metadata": {},
     "output_type": "execute_result"
    }
   ],
   "source": [
    "a.shape[0]"
   ]
  },
  {
   "cell_type": "code",
   "execution_count": 5,
   "metadata": {
    "collapsed": false
   },
   "outputs": [
    {
     "data": {
      "text/plain": [
       "2"
      ]
     },
     "execution_count": 5,
     "metadata": {},
     "output_type": "execute_result"
    }
   ],
   "source": [
    "len(np.zeros(2))"
   ]
  },
  {
   "cell_type": "code",
   "execution_count": 7,
   "metadata": {
    "collapsed": false
   },
   "outputs": [
    {
     "data": {
      "text/plain": [
       "array([[ 0.,  0.],\n",
       "       [ 0.,  0.]])"
      ]
     },
     "execution_count": 7,
     "metadata": {},
     "output_type": "execute_result"
    }
   ],
   "source": [
    "np.zeros([2,2])"
   ]
  },
  {
   "cell_type": "code",
   "execution_count": null,
   "metadata": {
    "collapsed": true
   },
   "outputs": [],
   "source": []
  }
 ],
 "metadata": {
  "kernelspec": {
   "display_name": "Python 2",
   "language": "python",
   "name": "python2"
  },
  "language_info": {
   "codemirror_mode": {
    "name": "ipython",
    "version": 2
   },
   "file_extension": ".py",
   "mimetype": "text/x-python",
   "name": "python",
   "nbconvert_exporter": "python",
   "pygments_lexer": "ipython2",
   "version": "2.7.11"
  }
 },
 "nbformat": 4,
 "nbformat_minor": 0
}
