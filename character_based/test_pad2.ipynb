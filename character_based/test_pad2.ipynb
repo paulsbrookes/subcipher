{
 "cells": [
  {
   "cell_type": "code",
   "execution_count": 1,
   "metadata": {
    "collapsed": false
   },
   "outputs": [
    {
     "name": "stdout",
     "output_type": "stream",
     "text": [
      "previous  table of contents  nextprevious  table o\n",
      "krevioun  table oc fostestn  sextkrevioun  table o\n"
     ]
    }
   ],
   "source": [
    "from message import Message\n",
    "from key import Key\n",
    "\n",
    "with open('sample.txt','r') as source:\n",
    "    sample = source.read()\n",
    "\n",
    "with open('sample2.txt','r') as source:\n",
    "    reference = source.read()\n",
    "    \n",
    "my_message = Message(sample)\n",
    "my_reference = Message(reference)\n",
    "my_reference = my_reference.filter()\n",
    "filtered_message = my_message.filter()\n",
    "encryption_key = Key()\n",
    "encryption_key.random_key()\n",
    "encrypted_message = filtered_message.map(encryption_key)\n",
    "\n",
    "natural_frequencies0 = filtered_message.frequencies()\n",
    "natural_frequencies1 = my_reference.frequencies()\n",
    "observed_frequencies = encrypted_message.frequencies()\n",
    "\n",
    "decryption_key0 = Key()\n",
    "decryption_key0.frequency_key(natural_frequencies0, observed_frequencies)\n",
    "decryption_key0 = decryption_key0.invert()\n",
    "\n",
    "decryption_key1 = Key()\n",
    "decryption_key1.frequency_key(natural_frequencies1, observed_frequencies)\n",
    "decryption_key1 = decryption_key1.invert()\n",
    "\n",
    "decrypted_message0 = encrypted_message.map(decryption_key0)\n",
    "print decrypted_message0.text[0:50]\n",
    "decrypted_message1 = encrypted_message.map(decryption_key1)\n",
    "print decrypted_message1.text[0:50]"
   ]
  },
  {
   "cell_type": "code",
   "execution_count": 2,
   "metadata": {
    "collapsed": false
   },
   "outputs": [
    {
     "data": {
      "text/plain": [
       "array([ 0,  1,  5,  3,  4,  2, 24,  7,  8,  9, 15, 11, 12, 18, 14, 10, 16,\n",
       "       17, 13, 19, 20, 21, 22, 23,  6, 25, 26], dtype=int8)"
      ]
     },
     "execution_count": 2,
     "metadata": {},
     "output_type": "execute_result"
    }
   ],
   "source": [
    "resulting_key = encryption_key.substitute(decryption_key1)\n",
    "resulting_key.map"
   ]
  },
  {
   "cell_type": "code",
   "execution_count": 1,
   "metadata": {
    "collapsed": false
   },
   "outputs": [
    {
     "data": {
      "text/plain": [
       "[0, 2, 1, 3, 4]"
      ]
     },
     "execution_count": 1,
     "metadata": {},
     "output_type": "execute_result"
    }
   ],
   "source": [
    "from key import Key\n",
    "key = Key(range(5))\n",
    "key.swap(1)\n",
    "key.map"
   ]
  },
  {
   "cell_type": "code",
   "execution_count": 4,
   "metadata": {
    "collapsed": false
   },
   "outputs": [],
   "source": [
    "import numpy as np\n",
    "default_alpha = 'abcdefghijklmnopqrstuvwxyz '\n",
    "map = np.array(range(27))\n",
    "def dictionary(map, alpha = default_alpha):\n",
    "    letter_map = np.zeros([2, len(alpha)], dtype = '|S1')\n",
    "    for i, x in enumerate(alpha):\n",
    "        letter_map[0, i] = x\n",
    "        letter_map[1, i] = alpha[map[i]]\n",
    "    return letter_map\n",
    "\n",
    "d = dictionary(map)"
   ]
  },
  {
   "cell_type": "code",
   "execution_count": 2,
   "metadata": {
    "collapsed": false
   },
   "outputs": [],
   "source": [
    "import numpy as np\n",
    "from key import Key\n",
    "key = Key(np.array(range(27)))\n",
    "array = key.array_swap()"
   ]
  },
  {
   "cell_type": "code",
   "execution_count": 10,
   "metadata": {
    "collapsed": false
   },
   "outputs": [
    {
     "data": {
      "text/plain": [
       "True"
      ]
     },
     "execution_count": 10,
     "metadata": {},
     "output_type": "execute_result"
    }
   ],
   "source": [
    "key1 = Key(np.array(range(5)))\n",
    "key2 = Key(np.array(range(5)))\n",
    "np.all(key1.map == key2.map)"
   ]
  },
  {
   "cell_type": "code",
   "execution_count": 7,
   "metadata": {
    "collapsed": false
   },
   "outputs": [
    {
     "data": {
      "text/plain": [
       "[0, 1, 2, 3, 4]"
      ]
     },
     "execution_count": 7,
     "metadata": {},
     "output_type": "execute_result"
    }
   ],
   "source": [
    "key1.map"
   ]
  },
  {
   "cell_type": "code",
   "execution_count": 6,
   "metadata": {
    "collapsed": false
   },
   "outputs": [
    {
     "name": "stdout",
     "output_type": "stream",
     "text": [
      "goober\n"
     ]
    }
   ],
   "source": [
    "a = 2\n",
    "if a == 1:\n",
    "    print 'hello'\n",
    "else:\n",
    "    print 'goober'"
   ]
  },
  {
   "cell_type": "code",
   "execution_count": 28,
   "metadata": {
    "collapsed": false
   },
   "outputs": [
    {
     "data": {
      "text/plain": [
       "4"
      ]
     },
     "execution_count": 28,
     "metadata": {},
     "output_type": "execute_result"
    }
   ],
   "source": [
    "len(a)"
   ]
  },
  {
   "cell_type": "code",
   "execution_count": 1,
   "metadata": {
    "collapsed": false
   },
   "outputs": [],
   "source": [
    "import numpy as np\n",
    "from key import Key\n",
    "a = np.array(range(27))\n",
    "origin = Key(a)\n",
    "dt = np.dtype(object)\n",
    "key_list = [x.array_swap() for x in origin.array_swap()]\n",
    "flat_map_list = []\n",
    "for list in key_list:\n",
    "    for key in list:\n",
    "        flat_map_list.append(key.map)\n",
    "\n",
    "def remove_duplicates(values):\n",
    "    output = []\n",
    "    seen = []\n",
    "    for value in values:\n",
    "        #print value\n",
    "        # If value has not been encountered yet,\n",
    "        # ... add it to both list and set.\n",
    "        if not np.any([np.all(value == x) for x in seen]):\n",
    "            output.append(value)\n",
    "            seen.append(value)\n",
    "    return output\n",
    "\n",
    "new_map_list = remove_duplicates(flat_map_list)"
   ]
  },
  {
   "cell_type": "code",
   "execution_count": 7,
   "metadata": {
    "collapsed": true
   },
   "outputs": [],
   "source": [
    "from functions import remove_duplicates"
   ]
  },
  {
   "cell_type": "code",
   "execution_count": 27,
   "metadata": {
    "collapsed": false
   },
   "outputs": [
    {
     "name": "stdout",
     "output_type": "stream",
     "text": [
      "The slowest run took 5.95 times longer than the fastest. This could mean that an intermediate result is being cached \n",
      "100000 loops, best of 3: 14.7 µs per loop\n"
     ]
    }
   ],
   "source": [
    "%%timeit\n",
    "a = np.array(range(1))\n",
    "origin = Key(a)\n",
    "dt = np.dtype(object)\n",
    "key_list = [x.array_swap() for x in origin.array_swap()]\n",
    "flat_map_list = []\n",
    "for list in key_list:\n",
    "    for key in list:\n",
    "        flat_map_list.append(key.map)\n",
    "new_map_list = remove_duplicates(flat_map_list)\n",
    "new_keys1 = [Key(x) for x in new_map_list]"
   ]
  },
  {
   "cell_type": "code",
   "execution_count": 21,
   "metadata": {
    "collapsed": false
   },
   "outputs": [
    {
     "data": {
      "text/plain": [
       "407"
      ]
     },
     "execution_count": 21,
     "metadata": {},
     "output_type": "execute_result"
    }
   ],
   "source": [
    "len(new_keys1)"
   ]
  },
  {
   "cell_type": "code",
   "execution_count": 13,
   "metadata": {
    "collapsed": false
   },
   "outputs": [
    {
     "name": "stdout",
     "output_type": "stream",
     "text": [
      "1 loops, best of 3: 499 ms per loop\n"
     ]
    }
   ],
   "source": [
    "%%timeit\n",
    "a = np.array(range(27))\n",
    "origin = Key(a)\n",
    "dt = np.dtype(object)\n",
    "key_list = [x.array_swap3() for x in origin.array_swap3()]\n",
    "flat_map_list = []\n",
    "for list in key_list:\n",
    "    for key in list:\n",
    "        flat_map_list.append(key.map)\n",
    "new_map_list = remove_duplicates(flat_map_list)\n",
    "new_keys1 = [Key(x) for x in new_map_list]"
   ]
  },
  {
   "cell_type": "code",
   "execution_count": null,
   "metadata": {
    "collapsed": true
   },
   "outputs": [],
   "source": [
    "def remove_duplicates(values):\n",
    "    output = []\n",
    "    seen = []\n",
    "    for value in values:\n",
    "        #print value\n",
    "        # If value has not been encountered yet,\n",
    "        # ... add it to both list and set.\n",
    "        if not np.any([np.all(value == x) for x in seen]):\n",
    "            output.append(value)\n",
    "            seen.append(value)\n",
    "    return output\n",
    "\n",
    "def key_proliferation(input_keys):\n",
    "    dt = np.dtype(object)\n",
    "    key_list = [x.array_swap() for x in input_keys]\n",
    "    map_list = []\n",
    "    for list in key_list:\n",
    "        for key in list:\n",
    "            map_list.append(key.map)\n",
    "    filtered_map_list = remove_duplicates(map_list)\n",
    "    filtered_key_list = [Key(x) for x in filtered_map_list]\n",
    "    return filtered_key_list\n",
    "    \n",
    "origin = Key(a)\n",
    "dt = np.dtype(object)\n",
    "key_list = [x.array_swap() for x in origin.array_swap()]\n",
    "flat_map_list = []\n",
    "for list in key_list:\n",
    "    for key in list:\n",
    "        flat_map_list.append(key.map)\n",
    "new_map_list = remove_duplicates(flat_map_list)\n",
    "new_keys1 = [Key(x) for x in new_map_list]"
   ]
  },
  {
   "cell_type": "code",
   "execution_count": 5,
   "metadata": {
    "collapsed": false
   },
   "outputs": [
    {
     "ename": "AttributeError",
     "evalue": "'Key' object has no attribute 'size'",
     "output_type": "error",
     "traceback": [
      "\u001b[1;31m---------------------------------------------------------------------------\u001b[0m",
      "\u001b[1;31mAttributeError\u001b[0m                            Traceback (most recent call last)",
      "\u001b[1;32m<ipython-input-5-5476c99c4161>\u001b[0m in \u001b[0;36m<module>\u001b[1;34m()\u001b[0m\n\u001b[1;32m----> 1\u001b[1;33m \u001b[0mget_ipython\u001b[0m\u001b[1;33m(\u001b[0m\u001b[1;33m)\u001b[0m\u001b[1;33m.\u001b[0m\u001b[0mrun_cell_magic\u001b[0m\u001b[1;33m(\u001b[0m\u001b[1;34mu'timeit'\u001b[0m\u001b[1;33m,\u001b[0m \u001b[1;34mu''\u001b[0m\u001b[1;33m,\u001b[0m \u001b[1;34mu'a = np.array(range(27))\\norigin = Key(a)\\ndt = np.dtype(object)\\nkey_list = [Key(x) for x in origin.array_swap3()]\\nkey_list = [x.array_swap3() for x in key_list]\\nflat_map_list = []\\nfor list in key_list:\\n    for key in list:\\n        flat_map_list.append(key)\\nnew_map_list = remove_duplicates(flat_map_list)\\nnew_keys3 = [Key(x) for x in new_map_list]'\u001b[0m\u001b[1;33m)\u001b[0m\u001b[1;33m\u001b[0m\u001b[0m\n\u001b[0m",
      "\u001b[1;32mC:\\Users\\Paul Brookes\\Anaconda2\\lib\\site-packages\\IPython\\core\\interactiveshell.pyc\u001b[0m in \u001b[0;36mrun_cell_magic\u001b[1;34m(self, magic_name, line, cell)\u001b[0m\n\u001b[0;32m   2291\u001b[0m             \u001b[0mmagic_arg_s\u001b[0m \u001b[1;33m=\u001b[0m \u001b[0mself\u001b[0m\u001b[1;33m.\u001b[0m\u001b[0mvar_expand\u001b[0m\u001b[1;33m(\u001b[0m\u001b[0mline\u001b[0m\u001b[1;33m,\u001b[0m \u001b[0mstack_depth\u001b[0m\u001b[1;33m)\u001b[0m\u001b[1;33m\u001b[0m\u001b[0m\n\u001b[0;32m   2292\u001b[0m             \u001b[1;32mwith\u001b[0m \u001b[0mself\u001b[0m\u001b[1;33m.\u001b[0m\u001b[0mbuiltin_trap\u001b[0m\u001b[1;33m:\u001b[0m\u001b[1;33m\u001b[0m\u001b[0m\n\u001b[1;32m-> 2293\u001b[1;33m                 \u001b[0mresult\u001b[0m \u001b[1;33m=\u001b[0m \u001b[0mfn\u001b[0m\u001b[1;33m(\u001b[0m\u001b[0mmagic_arg_s\u001b[0m\u001b[1;33m,\u001b[0m \u001b[0mcell\u001b[0m\u001b[1;33m)\u001b[0m\u001b[1;33m\u001b[0m\u001b[0m\n\u001b[0m\u001b[0;32m   2294\u001b[0m             \u001b[1;32mreturn\u001b[0m \u001b[0mresult\u001b[0m\u001b[1;33m\u001b[0m\u001b[0m\n\u001b[0;32m   2295\u001b[0m \u001b[1;33m\u001b[0m\u001b[0m\n",
      "\u001b[1;32mC:\\Users\\Paul Brookes\\Anaconda2\\lib\\site-packages\\IPython\\core\\magics\\execution.pyc\u001b[0m in \u001b[0;36mtimeit\u001b[1;34m(self, line, cell)\u001b[0m\n",
      "\u001b[1;32mC:\\Users\\Paul Brookes\\Anaconda2\\lib\\site-packages\\IPython\\core\\magic.pyc\u001b[0m in \u001b[0;36m<lambda>\u001b[1;34m(f, *a, **k)\u001b[0m\n\u001b[0;32m    191\u001b[0m     \u001b[1;31m# but it's overkill for just that one bit of state.\u001b[0m\u001b[1;33m\u001b[0m\u001b[1;33m\u001b[0m\u001b[0m\n\u001b[0;32m    192\u001b[0m     \u001b[1;32mdef\u001b[0m \u001b[0mmagic_deco\u001b[0m\u001b[1;33m(\u001b[0m\u001b[0marg\u001b[0m\u001b[1;33m)\u001b[0m\u001b[1;33m:\u001b[0m\u001b[1;33m\u001b[0m\u001b[0m\n\u001b[1;32m--> 193\u001b[1;33m         \u001b[0mcall\u001b[0m \u001b[1;33m=\u001b[0m \u001b[1;32mlambda\u001b[0m \u001b[0mf\u001b[0m\u001b[1;33m,\u001b[0m \u001b[1;33m*\u001b[0m\u001b[0ma\u001b[0m\u001b[1;33m,\u001b[0m \u001b[1;33m**\u001b[0m\u001b[0mk\u001b[0m\u001b[1;33m:\u001b[0m \u001b[0mf\u001b[0m\u001b[1;33m(\u001b[0m\u001b[1;33m*\u001b[0m\u001b[0ma\u001b[0m\u001b[1;33m,\u001b[0m \u001b[1;33m**\u001b[0m\u001b[0mk\u001b[0m\u001b[1;33m)\u001b[0m\u001b[1;33m\u001b[0m\u001b[0m\n\u001b[0m\u001b[0;32m    194\u001b[0m \u001b[1;33m\u001b[0m\u001b[0m\n\u001b[0;32m    195\u001b[0m         \u001b[1;32mif\u001b[0m \u001b[0mcallable\u001b[0m\u001b[1;33m(\u001b[0m\u001b[0marg\u001b[0m\u001b[1;33m)\u001b[0m\u001b[1;33m:\u001b[0m\u001b[1;33m\u001b[0m\u001b[0m\n",
      "\u001b[1;32mC:\\Users\\Paul Brookes\\Anaconda2\\lib\\site-packages\\IPython\\core\\magics\\execution.pyc\u001b[0m in \u001b[0;36mtimeit\u001b[1;34m(self, line, cell)\u001b[0m\n\u001b[0;32m   1035\u001b[0m             \u001b[0mnumber\u001b[0m \u001b[1;33m=\u001b[0m \u001b[1;36m1\u001b[0m\u001b[1;33m\u001b[0m\u001b[0m\n\u001b[0;32m   1036\u001b[0m             \u001b[1;32mfor\u001b[0m \u001b[0m_\u001b[0m \u001b[1;32min\u001b[0m \u001b[0mrange\u001b[0m\u001b[1;33m(\u001b[0m\u001b[1;36m1\u001b[0m\u001b[1;33m,\u001b[0m \u001b[1;36m10\u001b[0m\u001b[1;33m)\u001b[0m\u001b[1;33m:\u001b[0m\u001b[1;33m\u001b[0m\u001b[0m\n\u001b[1;32m-> 1037\u001b[1;33m                 \u001b[0mtime_number\u001b[0m \u001b[1;33m=\u001b[0m \u001b[0mtimer\u001b[0m\u001b[1;33m.\u001b[0m\u001b[0mtimeit\u001b[0m\u001b[1;33m(\u001b[0m\u001b[0mnumber\u001b[0m\u001b[1;33m)\u001b[0m\u001b[1;33m\u001b[0m\u001b[0m\n\u001b[0m\u001b[0;32m   1038\u001b[0m                 \u001b[0mworst_tuning\u001b[0m \u001b[1;33m=\u001b[0m \u001b[0mmax\u001b[0m\u001b[1;33m(\u001b[0m\u001b[0mworst_tuning\u001b[0m\u001b[1;33m,\u001b[0m \u001b[0mtime_number\u001b[0m \u001b[1;33m/\u001b[0m \u001b[0mnumber\u001b[0m\u001b[1;33m)\u001b[0m\u001b[1;33m\u001b[0m\u001b[0m\n\u001b[0;32m   1039\u001b[0m                 \u001b[1;32mif\u001b[0m \u001b[0mtime_number\u001b[0m \u001b[1;33m>=\u001b[0m \u001b[1;36m0.2\u001b[0m\u001b[1;33m:\u001b[0m\u001b[1;33m\u001b[0m\u001b[0m\n",
      "\u001b[1;32mC:\\Users\\Paul Brookes\\Anaconda2\\lib\\site-packages\\IPython\\core\\magics\\execution.pyc\u001b[0m in \u001b[0;36mtimeit\u001b[1;34m(self, number)\u001b[0m\n\u001b[0;32m    131\u001b[0m         \u001b[0mgc\u001b[0m\u001b[1;33m.\u001b[0m\u001b[0mdisable\u001b[0m\u001b[1;33m(\u001b[0m\u001b[1;33m)\u001b[0m\u001b[1;33m\u001b[0m\u001b[0m\n\u001b[0;32m    132\u001b[0m         \u001b[1;32mtry\u001b[0m\u001b[1;33m:\u001b[0m\u001b[1;33m\u001b[0m\u001b[0m\n\u001b[1;32m--> 133\u001b[1;33m             \u001b[0mtiming\u001b[0m \u001b[1;33m=\u001b[0m \u001b[0mself\u001b[0m\u001b[1;33m.\u001b[0m\u001b[0minner\u001b[0m\u001b[1;33m(\u001b[0m\u001b[0mit\u001b[0m\u001b[1;33m,\u001b[0m \u001b[0mself\u001b[0m\u001b[1;33m.\u001b[0m\u001b[0mtimer\u001b[0m\u001b[1;33m)\u001b[0m\u001b[1;33m\u001b[0m\u001b[0m\n\u001b[0m\u001b[0;32m    134\u001b[0m         \u001b[1;32mfinally\u001b[0m\u001b[1;33m:\u001b[0m\u001b[1;33m\u001b[0m\u001b[0m\n\u001b[0;32m    135\u001b[0m             \u001b[1;32mif\u001b[0m \u001b[0mgcold\u001b[0m\u001b[1;33m:\u001b[0m\u001b[1;33m\u001b[0m\u001b[0m\n",
      "\u001b[1;32m<magic-timeit>\u001b[0m in \u001b[0;36minner\u001b[1;34m(_it, _timer)\u001b[0m\n",
      "\u001b[1;32mC:\\Users\\Paul Brookes\\Documents\\GitHub\\subcipher\\key.py\u001b[0m in \u001b[0;36marray_swap3\u001b[1;34m(self)\u001b[0m\n\u001b[0;32m     63\u001b[0m \u001b[1;33m\u001b[0m\u001b[0m\n\u001b[0;32m     64\u001b[0m     \u001b[1;32mdef\u001b[0m \u001b[0marray_swap3\u001b[0m\u001b[1;33m(\u001b[0m\u001b[0mself\u001b[0m\u001b[1;33m)\u001b[0m\u001b[1;33m:\u001b[0m\u001b[1;33m\u001b[0m\u001b[0m\n\u001b[1;32m---> 65\u001b[1;33m         \u001b[1;32mreturn\u001b[0m \u001b[1;33m[\u001b[0m\u001b[0mself\u001b[0m\u001b[1;33m.\u001b[0m\u001b[0mswap3\u001b[0m\u001b[1;33m(\u001b[0m\u001b[0mi\u001b[0m\u001b[1;33m)\u001b[0m \u001b[1;32mfor\u001b[0m \u001b[0mi\u001b[0m \u001b[1;32min\u001b[0m \u001b[0mrange\u001b[0m\u001b[1;33m(\u001b[0m\u001b[0mself\u001b[0m\u001b[1;33m.\u001b[0m\u001b[0mmap\u001b[0m\u001b[1;33m.\u001b[0m\u001b[0msize\u001b[0m\u001b[1;33m)\u001b[0m\u001b[1;33m]\u001b[0m\u001b[1;33m\u001b[0m\u001b[0m\n\u001b[0m\u001b[0;32m     66\u001b[0m \u001b[1;33m\u001b[0m\u001b[0m\n\u001b[0;32m     67\u001b[0m     \u001b[1;32mdef\u001b[0m \u001b[0marray_swap\u001b[0m\u001b[1;33m(\u001b[0m\u001b[0mself\u001b[0m\u001b[1;33m)\u001b[0m\u001b[1;33m:\u001b[0m\u001b[1;33m\u001b[0m\u001b[0m\n",
      "\u001b[1;31mAttributeError\u001b[0m: 'Key' object has no attribute 'size'"
     ]
    }
   ],
   "source": [
    "%%timeit\n",
    "a = np.array(range(27))\n",
    "origin = Key(a)\n",
    "dt = np.dtype(object)\n",
    "key_list = [Key(x) for x in origin.array_swap3()]\n",
    "key_list = [x.array_swap3() for x in key_list]\n",
    "flat_map_list = []\n",
    "for list in key_list:\n",
    "    for key in list:\n",
    "        flat_map_list.append(key)\n",
    "new_map_list = remove_duplicates(flat_map_list)\n",
    "new_keys3 = [Key(x) for x in new_map_list]"
   ]
  },
  {
   "cell_type": "code",
   "execution_count": 4,
   "metadata": {
    "collapsed": false
   },
   "outputs": [],
   "source": [
    "from key import Key"
   ]
  },
  {
   "cell_type": "code",
   "execution_count": null,
   "metadata": {
    "collapsed": false
   },
   "outputs": [],
   "source": []
  },
  {
   "cell_type": "code",
   "execution_count": 177,
   "metadata": {
    "collapsed": false
   },
   "outputs": [],
   "source": [
    "import numpy as np\n",
    "import random\n",
    "default_alpha = 'abcdefghijklmnopqrstuvwxyz '\n",
    "\n",
    "class Key(object):\n",
    "    def __init__(self, map=[]):\n",
    "        self.map = map\n",
    "\n",
    "    def substitute(self, new_map):\n",
    "        map_out = np.zeros(self.map.shape[0], dtype = np.int8)\n",
    "        for x in range(self.map.shape[0]):\n",
    "            map_out[x] = new_map.map[self.map[x]]\n",
    "        return Key(map_out)\n",
    "\n",
    "    def invert(self):\n",
    "        inverted_map = np.zeros(self.map.shape[0], dtype = np.int8)\n",
    "        for x in range(self.map.size):\n",
    "            inverted_map[self.map[x]] = x\n",
    "        return Key(inverted_map)\n",
    "\n",
    "    def obtain_key(self, alpha, beta):\n",
    "        key = np.zeros(len(beta))\n",
    "        for x in range(len(beta)):\n",
    "            key[x] = alpha.find(beta[x])\n",
    "        return Key(key)\n",
    "\n",
    "    def random_key(self, alpha = default_alpha):\n",
    "        self.map = np.array(range(len(alpha)))\n",
    "        random.shuffle(self.map)\n",
    "\n",
    "    def frequency_key(self, natural_frequencies, observed_frequencies):\n",
    "        natural_indices_sorted = np.argsort(natural_frequencies)\n",
    "        observed_indices_sorted = np.argsort(observed_frequencies)\n",
    "        frequency_key = np.zeros(natural_frequencies.size, dtype = np.int8)\n",
    "        for i, x in enumerate(natural_indices_sorted):\n",
    "            frequency_key[x] = observed_indices_sorted[i]\n",
    "        self.map = frequency_key\n",
    "\n",
    "    def dictionary(self, alpha = default_alpha):\n",
    "        letter_map = np.zeros([2, len(alpha)], dtype = '|S1')\n",
    "        for i, x in enumerate(alpha):\n",
    "            letter_map[0, i] = x\n",
    "            letter_map[1, i] = alpha[self.map[i]]\n",
    "        return letter_map\n",
    "\n",
    "    def swap(self, i):\n",
    "        swap_map = np.copy(self.map)\n",
    "        if i == swap_map.size - 1:\n",
    "            swap_map[i], swap_map[0] = self.map[0], self.map[i]\n",
    "        else:\n",
    "            swap_map[i], swap_map[i + 1] = self.map[i + 1], self.map[i]\n",
    "        return Key(swap_map)\n",
    "\n",
    "    def array_swap(self):\n",
    "        return [self.swap(i) for i in range(self.map.size)]\n",
    "    \n",
    "key = Key(np.array(range(27)))\n"
   ]
  },
  {
   "cell_type": "code",
   "execution_count": 3,
   "metadata": {
    "collapsed": false
   },
   "outputs": [],
   "source": [
    "from functions import key_proliferation\n",
    "from key import Key\n",
    "import numpy as np\n",
    "\n",
    "a = np.arange(27)\n",
    "origin = Key(a)\n",
    "origin = origin.array_swap()\n",
    "new_keys = key_proliferation(origin)"
   ]
  },
  {
   "cell_type": "code",
   "execution_count": 5,
   "metadata": {
    "collapsed": false
   },
   "outputs": [
    {
     "data": {
      "text/plain": [
       "379"
      ]
     },
     "execution_count": 5,
     "metadata": {},
     "output_type": "execute_result"
    }
   ],
   "source": [
    "len(new_keys)"
   ]
  },
  {
   "cell_type": "code",
   "execution_count": 5,
   "metadata": {
    "collapsed": false
   },
   "outputs": [
    {
     "data": {
      "text/plain": [
       "array([ 0,  1,  2,  3,  4,  5,  6,  7,  8,  9, 10, 11, 12, 13, 14, 15, 16,\n",
       "       17, 18, 19, 20, 21, 22, 23, 24, 25, 26])"
      ]
     },
     "execution_count": 5,
     "metadata": {},
     "output_type": "execute_result"
    }
   ],
   "source": [
    "from key import Key\n",
    "import numpy as np\n",
    "a = np.arange(27)\n",
    "key = Key(a)\n",
    "new = key.swap(30)\n",
    "new.map"
   ]
  },
  {
   "cell_type": "code",
   "execution_count": null,
   "metadata": {
    "collapsed": false
   },
   "outputs": [],
   "source": []
  },
  {
   "cell_type": "code",
   "execution_count": null,
   "metadata": {
    "collapsed": false
   },
   "outputs": [],
   "source": []
  },
  {
   "cell_type": "code",
   "execution_count": null,
   "metadata": {
    "collapsed": false
   },
   "outputs": [],
   "source": []
  },
  {
   "cell_type": "code",
   "execution_count": null,
   "metadata": {
    "collapsed": true
   },
   "outputs": [],
   "source": []
  }
 ],
 "metadata": {
  "kernelspec": {
   "display_name": "Python 2",
   "language": "python",
   "name": "python2"
  },
  "language_info": {
   "codemirror_mode": {
    "name": "ipython",
    "version": 2
   },
   "file_extension": ".py",
   "mimetype": "text/x-python",
   "name": "python",
   "nbconvert_exporter": "python",
   "pygments_lexer": "ipython2",
   "version": "2.7.11"
  }
 },
 "nbformat": 4,
 "nbformat_minor": 0
}
