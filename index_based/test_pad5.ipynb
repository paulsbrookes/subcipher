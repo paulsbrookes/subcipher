{
 "cells": [
  {
   "cell_type": "code",
   "execution_count": 2,
   "metadata": {
    "collapsed": false
   },
   "outputs": [],
   "source": [
    "import random\n",
    "import time\n",
    "import numpy as np\n",
    "from indices import Indices\n",
    "from indices_group import Indices_Group\n",
    "from map import Map\n",
    "import itertools\n",
    "from functions2 import quadruplet_metric, pair_metric3, triplet_metric2, pair_metric4, rm_duplicate_ciphertexts3\n",
    "from functions2 import pair_metric, cycle, cycle_list, rm_duplicate_arrays, cycle_list_gen, pair_metric2, swap, swap_list, triplet_metric, swap_list_gen"
   ]
  },
  {
   "cell_type": "code",
   "execution_count": null,
   "metadata": {
    "collapsed": false
   },
   "outputs": [],
   "source": [
    "        metric_results = np.zeros(len(self.ciphertexts))\n",
    "        for i, text in enumerate(self.ciphertexts):\n",
    "            metric = metric_function(text, self.natural_text)\n",
    "            metric_results[i] = metric\n",
    "        ranking = np.argsort(metric_results)\n",
    "        ranked_texts = [self.ciphertexts[x] for x in ranking]\n",
    "        filtered_ranked_texts = rm_duplicate_ciphertexts(ranked_texts, number_retained)\n",
    "        self.ciphertexts = filtered_ranked_texts"
   ]
  },
  {
   "cell_type": "code",
   "execution_count": 5,
   "metadata": {
    "collapsed": false
   },
   "outputs": [],
   "source": [
    "metric_results = np.zeros(len(trial_texts))\n",
    "for i, text in enumerate(trial_texts):\n",
    "    metric = pair_metric(text, natural_text)\n",
    "    metric_results[i] = metric\n",
    "ranking = np.argsort(metric_results)\n",
    "ranked_texts = [trial_texts[x] for x in ranking]"
   ]
  },
  {
   "cell_type": "code",
   "execution_count": 6,
   "metadata": {
    "collapsed": false
   },
   "outputs": [
    {
     "ename": "AttributeError",
     "evalue": "'Indices' object has no attribute 'tolist'",
     "output_type": "error",
     "traceback": [
      "\u001b[1;31m---------------------------------------------------------------------------\u001b[0m",
      "\u001b[1;31mAttributeError\u001b[0m                            Traceback (most recent call last)",
      "\u001b[1;32m<ipython-input-6-51f6c09ae358>\u001b[0m in \u001b[0;36m<module>\u001b[1;34m()\u001b[0m\n\u001b[1;32m----> 1\u001b[1;33m \u001b[0mfiltered_ranked_texts\u001b[0m \u001b[1;33m=\u001b[0m \u001b[0mrm_duplicate_ciphertexts3\u001b[0m\u001b[1;33m(\u001b[0m\u001b[0mranked_texts\u001b[0m\u001b[1;33m,\u001b[0m \u001b[1;36m10\u001b[0m\u001b[1;33m)\u001b[0m\u001b[1;33m\u001b[0m\u001b[0m\n\u001b[0m",
      "\u001b[1;32mC:\\Users\\Paul Brookes\\Documents\\GitHub\\subcipher\\functions2.py\u001b[0m in \u001b[0;36mrm_duplicate_ciphertexts3\u001b[1;34m(ciphertexts, number_retained)\u001b[0m\n\u001b[0;32m     90\u001b[0m     \u001b[0mfiltered_ciphertexts\u001b[0m \u001b[1;33m=\u001b[0m \u001b[1;33m[\u001b[0m\u001b[1;33m]\u001b[0m\u001b[1;33m\u001b[0m\u001b[0m\n\u001b[0;32m     91\u001b[0m     \u001b[1;32mfor\u001b[0m \u001b[0mi\u001b[0m\u001b[1;33m,\u001b[0m \u001b[0mx\u001b[0m \u001b[1;32min\u001b[0m \u001b[0menumerate\u001b[0m\u001b[1;33m(\u001b[0m\u001b[0mciphertexts\u001b[0m\u001b[1;33m)\u001b[0m\u001b[1;33m:\u001b[0m\u001b[1;33m\u001b[0m\u001b[0m\n\u001b[1;32m---> 92\u001b[1;33m         \u001b[0mmap\u001b[0m \u001b[1;33m=\u001b[0m \u001b[0mx\u001b[0m\u001b[1;33m.\u001b[0m\u001b[0mtolist\u001b[0m\u001b[1;33m(\u001b[0m\u001b[1;33m)\u001b[0m\u001b[1;33m\u001b[0m\u001b[0m\n\u001b[0m\u001b[0;32m     93\u001b[0m         \u001b[1;32mif\u001b[0m \u001b[0mmap\u001b[0m \u001b[1;32mnot\u001b[0m \u001b[1;32min\u001b[0m \u001b[0madded\u001b[0m\u001b[1;33m:\u001b[0m\u001b[1;33m\u001b[0m\u001b[0m\n\u001b[0;32m     94\u001b[0m             \u001b[0mnumber_added\u001b[0m \u001b[1;33m+=\u001b[0m \u001b[1;36m1\u001b[0m\u001b[1;33m\u001b[0m\u001b[0m\n",
      "\u001b[1;31mAttributeError\u001b[0m: 'Indices' object has no attribute 'tolist'"
     ]
    }
   ],
   "source": [
    "filtered_ranked_texts = rm_duplicate_ciphertexts3(ranked_texts, 10)"
   ]
  },
  {
   "cell_type": "code",
   "execution_count": 23,
   "metadata": {
    "collapsed": false
   },
   "outputs": [
    {
     "data": {
      "text/plain": [
       "181440"
      ]
     },
     "execution_count": 23,
     "metadata": {},
     "output_type": "execute_result"
    }
   ],
   "source": [
    "len(metric_results)"
   ]
  },
  {
   "cell_type": "code",
   "execution_count": 3,
   "metadata": {
    "collapsed": false
   },
   "outputs": [
    {
     "name": "stdout",
     "output_type": "stream",
     "text": [
      "no king of the isles had ever needed a hand\n",
      "qjnpwqhnjknifenwdgednfcyneuesnqeeyeyncnfcqy\n"
     ]
    },
    {
     "name": "stderr",
     "output_type": "stream",
     "text": [
      "map.py:22: FutureWarning: comparison to `None` will result in an elementwise object comparison in the future.\n",
      "  if np.all(ciphertext.rates[0] == None):\n",
      "map.py:24: FutureWarning: comparison to `None` will result in an elementwise object comparison in the future.\n",
      "  if np.all(natural_sample.rates[0] == None):\n"
     ]
    }
   ],
   "source": [
    "with open('message4.txt','r') as source:\n",
    "    message_text = source.read()\n",
    "\n",
    "message = Indices()\n",
    "message.text_in(message_text)\n",
    "original = Indices()\n",
    "original.text_in(message_text)\n",
    "\n",
    "print message.text_out()\n",
    "message.randomise()\n",
    "print message.text_out()\n",
    "\n",
    "with open('sample.txt','r') as source:\n",
    "    sample_text = source.read()\n",
    "natural_text = Indices()\n",
    "natural_text.text_in(sample_text)\n",
    "natural_text.group_frequencies(1)\n",
    "natural_text.pair_frequencies()\n",
    "message.group_frequencies(1)\n",
    "freq_attempt = Map()\n",
    "freq_attempt.freq_key(message, natural_text)\n",
    "\n",
    "identity = np.arange(27)\n",
    "decryption_attempt = grand_permute(identity, message.rates[0])\n",
    "decryption_attempt = [substitute(map,freq_attempt.map) for map in decryption_attempt]\n",
    "trial_texts = [message.map(map) for map in decryption_attempt]\n",
    "\n",
    "group = Indices_Group(trial_texts,natural_text)\n",
    "\n",
    "natural_text.pair_frequencies()\n",
    "natural_text.triplet_frequencies()    \n",
    "    \n",
    "zero_map = Map(np.arange(27))\n",
    "cycle_maps = zero_map.proliferate([cycle_list_gen(i) for i in range(2,5)]) + [np.arange(27)]\n",
    "swap_maps = zero_map.proliferate([swap_list_gen(3)])\n",
    "d_swap_maps = zero_map.proliferate([swap_list_gen(15)])"
   ]
  },
  {
   "cell_type": "code",
   "execution_count": 4,
   "metadata": {
    "collapsed": false
   },
   "outputs": [
    {
     "data": {
      "text/plain": [
       "181440"
      ]
     },
     "execution_count": 4,
     "metadata": {},
     "output_type": "execute_result"
    }
   ],
   "source": [
    "len(decryption_attempt)"
   ]
  },
  {
   "cell_type": "code",
   "execution_count": 4,
   "metadata": {
    "collapsed": false
   },
   "outputs": [
    {
     "name": "stdout",
     "output_type": "stream",
     "text": [
      "ts urtl si woe rngen oah emed teeheh a oath\n",
      "[ 0  1 15  3  7  9  2  6  4 10  8 17 16 23 22 26  5 11 18 12 24 14 13 21 20\n",
      " 25 19]\n"
     ]
    }
   ],
   "source": [
    "#initial discrimination\n",
    "for i in range(1):\n",
    "    group.rank(pair_metric,10)\n",
    "print group.ciphertexts[0].text_out()\n",
    "print group.ciphertexts[0].map_record"
   ]
  },
  {
   "cell_type": "code",
   "execution_count": 6,
   "metadata": {
    "collapsed": false
   },
   "outputs": [],
   "source": [
    "backup_group = group\n",
    "a1 = group\n",
    "a2 = group\n",
    "a3 = group"
   ]
  },
  {
   "cell_type": "code",
   "execution_count": 25,
   "metadata": {
    "collapsed": false
   },
   "outputs": [
    {
     "data": {
      "text/plain": [
       "<indices_group.Indices_Group at 0x182d1160>"
      ]
     },
     "execution_count": 25,
     "metadata": {},
     "output_type": "execute_result"
    }
   ],
   "source": [
    "a1"
   ]
  },
  {
   "cell_type": "code",
   "execution_count": 41,
   "metadata": {
    "collapsed": false
   },
   "outputs": [
    {
     "name": "stdout",
     "output_type": "stream",
     "text": [
      "no wing of the isles had ever needed a hand\n",
      "[ 0  1  2  3  4  5  6  7  8  9 10 11 14 23 12 26 16 17 13 22 24 21 15 18 20\n",
      " 25 19]\n",
      "-0.0114242902507\n"
     ]
    }
   ],
   "source": [
    "for i in range(1):\n",
    "    a1.proliferate(d_swap_maps,1)\n",
    "    a1.rank(quadruplet_metric,1)\n",
    "print a1.ciphertexts[0].text_out()\n",
    "print a1.ciphertexts[0].map_record\n",
    "print pair_metric3(a1.ciphertexts[0],natural_text)"
   ]
  },
  {
   "cell_type": "code",
   "execution_count": 39,
   "metadata": {
    "collapsed": false
   },
   "outputs": [
    {
     "name": "stdout",
     "output_type": "stream",
     "text": [
      "no wing of the ildel has ever neeses a hans\n",
      "[ 0  1  2  3  4  5  6 11  8  9  7 10 14 23 12 26 16 17 13 22 24 21 15 18 20\n",
      " 25 19]\n",
      "-0.010345812444\n"
     ]
    }
   ],
   "source": [
    "for i in range(5):\n",
    "    a2.proliferate(d_swap_maps,1)\n",
    "    a2.rank(triplet_metric,1)\n",
    "print a2.ciphertexts[0].text_out()\n",
    "print a2.ciphertexts[0].map_record\n",
    "print pair_metric3(a2.ciphertexts[0],natural_text)"
   ]
  },
  {
   "cell_type": "code",
   "execution_count": 19,
   "metadata": {
    "collapsed": false
   },
   "outputs": [
    {
     "name": "stdout",
     "output_type": "stream",
     "text": [
      "1\n",
      "-0.0110863323333\n",
      "-0.0102638565802\n"
     ]
    },
    {
     "ename": "IndexError",
     "evalue": "list index out of range",
     "output_type": "error",
     "traceback": [
      "\u001b[1;31m---------------------------------------------------------------------------\u001b[0m",
      "\u001b[1;31mIndexError\u001b[0m                                Traceback (most recent call last)",
      "\u001b[1;32m<ipython-input-19-8047908cbc46>\u001b[0m in \u001b[0;36m<module>\u001b[1;34m()\u001b[0m\n\u001b[0;32m      2\u001b[0m \u001b[1;32mprint\u001b[0m \u001b[0mpair_metric3\u001b[0m\u001b[1;33m(\u001b[0m\u001b[0moriginal\u001b[0m\u001b[1;33m,\u001b[0m\u001b[0mnatural_text\u001b[0m\u001b[1;33m)\u001b[0m\u001b[1;33m\u001b[0m\u001b[0m\n\u001b[0;32m      3\u001b[0m \u001b[1;32mprint\u001b[0m \u001b[0mpair_metric3\u001b[0m\u001b[1;33m(\u001b[0m\u001b[0mgroup\u001b[0m\u001b[1;33m.\u001b[0m\u001b[0mciphertexts\u001b[0m\u001b[1;33m[\u001b[0m\u001b[1;36m0\u001b[0m\u001b[1;33m]\u001b[0m\u001b[1;33m,\u001b[0m\u001b[0mnatural_text\u001b[0m\u001b[1;33m)\u001b[0m\u001b[1;33m\u001b[0m\u001b[0m\n\u001b[1;32m----> 4\u001b[1;33m \u001b[1;32mprint\u001b[0m \u001b[0mpair_metric3\u001b[0m\u001b[1;33m(\u001b[0m\u001b[0mgroup\u001b[0m\u001b[1;33m.\u001b[0m\u001b[0mciphertexts\u001b[0m\u001b[1;33m[\u001b[0m\u001b[1;36m1\u001b[0m\u001b[1;33m]\u001b[0m\u001b[1;33m,\u001b[0m\u001b[0mnatural_text\u001b[0m\u001b[1;33m)\u001b[0m\u001b[1;33m\u001b[0m\u001b[0m\n\u001b[0m\u001b[0;32m      5\u001b[0m \u001b[1;32mprint\u001b[0m \u001b[0mfreq_attempt\u001b[0m\u001b[1;33m.\u001b[0m\u001b[0mmap\u001b[0m\u001b[1;33m\u001b[0m\u001b[0m\n\u001b[0;32m      6\u001b[0m \u001b[0mrepeat_indices\u001b[0m\u001b[1;33m(\u001b[0m\u001b[0mmessage\u001b[0m\u001b[1;33m.\u001b[0m\u001b[0mrates\u001b[0m\u001b[1;33m[\u001b[0m\u001b[1;36m0\u001b[0m\u001b[1;33m]\u001b[0m\u001b[1;33m)\u001b[0m\u001b[1;33m\u001b[0m\u001b[0m\n",
      "\u001b[1;31mIndexError\u001b[0m: list index out of range"
     ]
    }
   ],
   "source": [
    "print len(group.ciphertexts)\n",
    "print pair_metric3(original,natural_text)\n",
    "print pair_metric3(group.ciphertexts[0],natural_text)\n",
    "print pair_metric3(group.ciphertexts[1],natural_text)\n",
    "print freq_attempt.map\n",
    "repeat_indices(message.rates[0])"
   ]
  },
  {
   "cell_type": "code",
   "execution_count": 11,
   "metadata": {
    "collapsed": false
   },
   "outputs": [
    {
     "ename": "TypeError",
     "evalue": "unsupported operand type(s) for -: 'NoneType' and 'float'",
     "output_type": "error",
     "traceback": [
      "\u001b[1;31m---------------------------------------------------------------------------\u001b[0m",
      "\u001b[1;31mTypeError\u001b[0m                                 Traceback (most recent call last)",
      "\u001b[1;32m<ipython-input-11-3cf846ca732b>\u001b[0m in \u001b[0;36m<module>\u001b[1;34m()\u001b[0m\n\u001b[0;32m      1\u001b[0m \u001b[1;32mfor\u001b[0m \u001b[0mi\u001b[0m \u001b[1;32min\u001b[0m \u001b[0mrange\u001b[0m\u001b[1;33m(\u001b[0m\u001b[1;36m25\u001b[0m\u001b[1;33m)\u001b[0m\u001b[1;33m:\u001b[0m\u001b[1;33m\u001b[0m\u001b[0m\n\u001b[0;32m      2\u001b[0m     \u001b[0mgroup\u001b[0m\u001b[1;33m.\u001b[0m\u001b[0mproliferate\u001b[0m\u001b[1;33m(\u001b[0m\u001b[0md_swap_maps\u001b[0m\u001b[1;33m,\u001b[0m\u001b[1;36m1\u001b[0m\u001b[1;33m)\u001b[0m\u001b[1;33m\u001b[0m\u001b[0m\n\u001b[1;32m----> 3\u001b[1;33m     \u001b[0mgroup\u001b[0m\u001b[1;33m.\u001b[0m\u001b[0mrank\u001b[0m\u001b[1;33m(\u001b[0m\u001b[0mtriplet_metric\u001b[0m\u001b[1;33m,\u001b[0m\u001b[1;36m1\u001b[0m\u001b[1;33m)\u001b[0m\u001b[1;33m\u001b[0m\u001b[0m\n\u001b[0m\u001b[0;32m      4\u001b[0m \u001b[1;32mprint\u001b[0m \u001b[0mgroup\u001b[0m\u001b[1;33m.\u001b[0m\u001b[0mciphertexts\u001b[0m\u001b[1;33m[\u001b[0m\u001b[1;36m0\u001b[0m\u001b[1;33m]\u001b[0m\u001b[1;33m.\u001b[0m\u001b[0mtext_out\u001b[0m\u001b[1;33m(\u001b[0m\u001b[1;33m)\u001b[0m\u001b[1;33m\u001b[0m\u001b[0m\n\u001b[0;32m      5\u001b[0m \u001b[1;32mprint\u001b[0m \u001b[0mgroup\u001b[0m\u001b[1;33m.\u001b[0m\u001b[0mciphertexts\u001b[0m\u001b[1;33m[\u001b[0m\u001b[1;36m0\u001b[0m\u001b[1;33m]\u001b[0m\u001b[1;33m.\u001b[0m\u001b[0mmap_record\u001b[0m\u001b[1;33m\u001b[0m\u001b[0m\n",
      "\u001b[1;32mC:\\Users\\Paul Brookes\\Documents\\GitHub\\subcipher\\indices_group.py\u001b[0m in \u001b[0;36mrank\u001b[1;34m(self, metric_function, number_retained)\u001b[0m\n\u001b[0;32m     17\u001b[0m         \u001b[0mmetric_results\u001b[0m \u001b[1;33m=\u001b[0m \u001b[0mnp\u001b[0m\u001b[1;33m.\u001b[0m\u001b[0mzeros\u001b[0m\u001b[1;33m(\u001b[0m\u001b[0mlen\u001b[0m\u001b[1;33m(\u001b[0m\u001b[0mself\u001b[0m\u001b[1;33m.\u001b[0m\u001b[0mciphertexts\u001b[0m\u001b[1;33m)\u001b[0m\u001b[1;33m)\u001b[0m\u001b[1;33m\u001b[0m\u001b[0m\n\u001b[0;32m     18\u001b[0m         \u001b[1;32mfor\u001b[0m \u001b[0mi\u001b[0m\u001b[1;33m,\u001b[0m \u001b[0mtext\u001b[0m \u001b[1;32min\u001b[0m \u001b[0menumerate\u001b[0m\u001b[1;33m(\u001b[0m\u001b[0mself\u001b[0m\u001b[1;33m.\u001b[0m\u001b[0mciphertexts\u001b[0m\u001b[1;33m)\u001b[0m\u001b[1;33m:\u001b[0m\u001b[1;33m\u001b[0m\u001b[0m\n\u001b[1;32m---> 19\u001b[1;33m             \u001b[0mmetric\u001b[0m \u001b[1;33m=\u001b[0m \u001b[0mmetric_function\u001b[0m\u001b[1;33m(\u001b[0m\u001b[0mtext\u001b[0m\u001b[1;33m,\u001b[0m \u001b[0mself\u001b[0m\u001b[1;33m.\u001b[0m\u001b[0mnatural_text\u001b[0m\u001b[1;33m)\u001b[0m\u001b[1;33m\u001b[0m\u001b[0m\n\u001b[0m\u001b[0;32m     20\u001b[0m             \u001b[0mmetric_results\u001b[0m\u001b[1;33m[\u001b[0m\u001b[0mi\u001b[0m\u001b[1;33m]\u001b[0m \u001b[1;33m=\u001b[0m \u001b[0mmetric\u001b[0m\u001b[1;33m\u001b[0m\u001b[0m\n\u001b[0;32m     21\u001b[0m         \u001b[0mranking\u001b[0m \u001b[1;33m=\u001b[0m \u001b[0mnp\u001b[0m\u001b[1;33m.\u001b[0m\u001b[0margsort\u001b[0m\u001b[1;33m(\u001b[0m\u001b[0mmetric_results\u001b[0m\u001b[1;33m)\u001b[0m\u001b[1;33m\u001b[0m\u001b[0m\n",
      "\u001b[1;32mC:\\Users\\Paul Brookes\\Documents\\GitHub\\subcipher\\functions2.pyc\u001b[0m in \u001b[0;36mtriplet_metric\u001b[1;34m(ciphertext, natural_text)\u001b[0m\n\u001b[0;32m     40\u001b[0m \u001b[1;32mdef\u001b[0m \u001b[0mtriplet_metric\u001b[0m\u001b[1;33m(\u001b[0m\u001b[0mciphertext\u001b[0m\u001b[1;33m,\u001b[0m \u001b[0mnatural_text\u001b[0m\u001b[1;33m)\u001b[0m\u001b[1;33m:\u001b[0m\u001b[1;33m\u001b[0m\u001b[0m\n\u001b[0;32m     41\u001b[0m     \u001b[0mciphertext\u001b[0m\u001b[1;33m.\u001b[0m\u001b[0mtriplet_frequencies\u001b[0m\u001b[1;33m(\u001b[0m\u001b[1;33m)\u001b[0m\u001b[1;33m\u001b[0m\u001b[0m\n\u001b[1;32m---> 42\u001b[1;33m     \u001b[0mdifference\u001b[0m \u001b[1;33m=\u001b[0m \u001b[0mabs\u001b[0m\u001b[1;33m(\u001b[0m\u001b[0mnatural_text\u001b[0m\u001b[1;33m.\u001b[0m\u001b[0mrates\u001b[0m\u001b[1;33m[\u001b[0m\u001b[1;36m2\u001b[0m\u001b[1;33m]\u001b[0m \u001b[1;33m-\u001b[0m \u001b[0mciphertext\u001b[0m\u001b[1;33m.\u001b[0m\u001b[0mrates\u001b[0m\u001b[1;33m[\u001b[0m\u001b[1;36m2\u001b[0m\u001b[1;33m]\u001b[0m\u001b[1;33m)\u001b[0m\u001b[1;33m\u001b[0m\u001b[0m\n\u001b[0m\u001b[0;32m     43\u001b[0m     \u001b[0mdifference\u001b[0m \u001b[1;33m=\u001b[0m \u001b[0mnp\u001b[0m\u001b[1;33m.\u001b[0m\u001b[0mabsolute\u001b[0m\u001b[1;33m(\u001b[0m\u001b[0mdifference\u001b[0m\u001b[1;33m)\u001b[0m \u001b[1;33m+\u001b[0m \u001b[1;36m1e-10\u001b[0m\u001b[1;33m\u001b[0m\u001b[0m\n\u001b[0;32m     44\u001b[0m     \u001b[0mmetric\u001b[0m \u001b[1;33m=\u001b[0m \u001b[1;33m-\u001b[0m\u001b[0mnp\u001b[0m\u001b[1;33m.\u001b[0m\u001b[0msum\u001b[0m\u001b[1;33m(\u001b[0m\u001b[1;36m1\u001b[0m\u001b[1;33m/\u001b[0m\u001b[0mdifference\u001b[0m\u001b[1;33m)\u001b[0m\u001b[1;33m\u001b[0m\u001b[0m\n",
      "\u001b[1;31mTypeError\u001b[0m: unsupported operand type(s) for -: 'NoneType' and 'float'"
     ]
    }
   ],
   "source": [
    "for i in range(25):\n",
    "    group.proliferate(d_swap_maps,1)\n",
    "    group.rank(triplet_metric,1)\n",
    "print group.ciphertexts[0].text_out()\n",
    "print group.ciphertexts[0].map_record\n",
    "print pair_metric3(group.ciphertexts[0],natural_text)"
   ]
  },
  {
   "cell_type": "code",
   "execution_count": 55,
   "metadata": {
    "collapsed": false
   },
   "outputs": [
    {
     "name": "stdout",
     "output_type": "stream",
     "text": [
      "the wooren watghtowey was the tallest thind this sire om the countains yisind twentk meet afove the fiddest sentinels anr solriey bines in the suyyounrind woors \n",
      "-0.0112277546073\n",
      "-0.0109555000068\n"
     ]
    }
   ],
   "source": [
    "my_map = np.arange(27)\n",
    "my_map[15] = 3\n",
    "my_map[3] = 15\n",
    "trial1 = my_trial.map(my_map)\n",
    "print trial1.text_out()\n",
    "print pair_metric3(trial1,natural_text)\n",
    "print pair_metric3(my_trial,natural_text)\n",
    "a = (swap_maps == my_map)"
   ]
  },
  {
   "cell_type": "code",
   "execution_count": null,
   "metadata": {
    "collapsed": false
   },
   "outputs": [],
   "source": []
  },
  {
   "cell_type": "code",
   "execution_count": null,
   "metadata": {
    "collapsed": false
   },
   "outputs": [
    {
     "name": "stdout",
     "output_type": "stream",
     "text": [
      "to wath on lie arger isp eved teepep s istp\n",
      "[ 0  1 11  7  4  3  2  9  5 10 19 17 20 18 14 26  6  8 23 22 25 21 15 24 12\n",
      " 16 13]\n",
      "-0.00903424200113\n"
     ]
    }
   ],
   "source": [
    "for i in range(10):\n",
    "    group.proliferate(d_swap_maps,20)\n",
    "    group.rank(triplet_metric,20)\n",
    "print group.ciphertexts[0].text_out()\n",
    "print group.ciphertexts[0].map_record\n",
    "print pair_metric3(group.ciphertexts[0],natural_text)"
   ]
  },
  {
   "cell_type": "code",
   "execution_count": 24,
   "metadata": {
    "collapsed": false
   },
   "outputs": [
    {
     "name": "stdout",
     "output_type": "stream",
     "text": [
      "the oiiren outghtioew ous the tullest thand thas sare im the kifntuans wasand toenty meet ucive the caddest sentanels unr silraew banes an the sfwwifnrand oiirs \n",
      "[ 0  1  2 13  5  3  6  7  8 15  9 11 17 16 22  4 14 10 18 20 12 21 19 26 23\n",
      " 25 24]\n",
      "-0.0106195897286\n"
     ]
    }
   ],
   "source": [
    "for i in range(1):\n",
    "    group.proliferate(swap_maps,10)\n",
    "    group.rank(quadruplet_metric,10)\n",
    "print group.ciphertexts[0].text_out()\n",
    "print group.ciphertexts[0].map_record\n",
    "print pair_metric3(group.ciphertexts[0],natural_text)"
   ]
  },
  {
   "cell_type": "code",
   "execution_count": 4,
   "metadata": {
    "collapsed": false
   },
   "outputs": [],
   "source": [
    "#generate Indices object for Indices_Group\n",
    "with open('message.txt','r') as source:\n",
    "    original_text = source.read()\n",
    "original = Indices()\n",
    "original.text_in(original_text)\n",
    "with open('sample.txt','r') as source:\n",
    "    sample_text = source.read()\n",
    "natural_text = Indices()\n",
    "natural_text.text_in(sample_text)\n",
    "natural_text.group_frequencies(1)\n",
    "freq_attempt = Map()\n",
    "decryption_attempts = []\n",
    "for i in range(100):\n",
    "    with open('message.txt','r') as source:\n",
    "        message_text = source.read()\n",
    "    message = Indices()\n",
    "    message.text_in(message_text)\n",
    "    message.randomise()\n",
    "    freq_attempt.freq_key(message, natural_text)\n",
    "    decryption_attempt = message.map(freq_attempt.map)\n",
    "    decryption_attempts.append(decryption_attempt.map_record)\n",
    "decryption_attempts = rm_duplicate_arrays(decryption_attempts)\n",
    "decryption_attempts = [original.map(x) for x in decryption_attempts]\n",
    "group = Indices_Group(decryption_attempts,natural_text)"
   ]
  },
  {
   "cell_type": "code",
   "execution_count": null,
   "metadata": {
    "collapsed": false
   },
   "outputs": [],
   "source": []
  },
  {
   "cell_type": "code",
   "execution_count": 30,
   "metadata": {
    "collapsed": false
   },
   "outputs": [],
   "source": [
    "#GENEREATE MAPS\n",
    "with open('sample.txt','r') as source:\n",
    "    sample_text = source.read()\n",
    "natural_text = Indices()\n",
    "natural_text.text_in(sample_text)\n",
    "natural_text.group_frequencies(1)\n",
    "freq_attempt = Map()\n",
    "decryption_attempts = []\n",
    "for i in range(100):\n",
    "    with open('message.txt','r') as source:\n",
    "        message_text = source.read()\n",
    "    message = Indices()\n",
    "    message.text_in(message_text)\n",
    "    message.randomise()\n",
    "    freq_attempt.freq_key(message, natural_text)\n",
    "    decryption_attempt = message.map(freq_attempt.map)\n",
    "    decryption_attempts.append(decryption_attempt.map_record)\n",
    "decryption_attempts = rm_duplicate_arrays(decryption_attempts)"
   ]
  },
  {
   "cell_type": "code",
   "execution_count": null,
   "metadata": {
    "collapsed": false
   },
   "outputs": [],
   "source": []
  },
  {
   "cell_type": "code",
   "execution_count": null,
   "metadata": {
    "collapsed": false
   },
   "outputs": [],
   "source": []
  },
  {
   "cell_type": "code",
   "execution_count": 68,
   "metadata": {
    "collapsed": false
   },
   "outputs": [
    {
     "data": {
      "text/plain": [
       "[-2, -1, 0, 1, 2, 3, 4]"
      ]
     },
     "execution_count": 68,
     "metadata": {},
     "output_type": "execute_result"
    }
   ],
   "source": [
    "range(-2,5)"
   ]
  },
  {
   "cell_type": "code",
   "execution_count": null,
   "metadata": {
    "collapsed": false
   },
   "outputs": [],
   "source": []
  },
  {
   "cell_type": "code",
   "execution_count": 23,
   "metadata": {
    "collapsed": false
   },
   "outputs": [
    {
     "name": "stdout",
     "output_type": "stream",
     "text": [
      "the woonei watchtowed was the tarrest thuig thus sune of the politauis dusuig tweity feet abome the buggest seituiers ain sornued quies ui the slddolinuig woons \n",
      "[ 0  1  2  3  4 13  5  7  8 10  6  9 12 11 19 15 16 17 18 25 20 14 23 26 22\n",
      " 21 24]\n"
     ]
    }
   ],
   "source": [
    "natural_text.pair_frequencies()\n",
    "for i in range(20):\n",
    "    group.proliferate(swap_maps,20)\n",
    "    group.rank(pair_metric,20)\n",
    "print group.ciphertexts[0].text_out()\n",
    "print group.ciphertexts[0].map_record"
   ]
  },
  {
   "cell_type": "code",
   "execution_count": 30,
   "metadata": {
    "collapsed": false
   },
   "outputs": [
    {
     "name": "stdout",
     "output_type": "stream",
     "text": [
      "the woomer witchtowel wis the tinnest tharp thas same of the bourtiars lasarp twerty feet igode the gappest sertarens irm sonmael vares ar the sullourmarp wooms \n",
      "[ 0  1  2  5  4  3  9  7  8 11 14  6 12 13 20 15 16 19 18 21 17 10 23 26 25\n",
      " 24 22]\n"
     ]
    }
   ],
   "source": [
    "natural_text.triplet_frequencies()\n",
    "for i in range(1):\n",
    "    group.proliferate(d_swap_maps,10)\n",
    "    group.rank(triplet_metric,10)\n",
    "print group.ciphertexts[0].text_out()\n",
    "print group.ciphertexts[0].map_record"
   ]
  },
  {
   "cell_type": "code",
   "execution_count": 31,
   "metadata": {
    "collapsed": false
   },
   "outputs": [
    {
     "ename": "IndexError",
     "evalue": "list assignment index out of range",
     "output_type": "error",
     "traceback": [
      "\u001b[1;31m---------------------------------------------------------------------------\u001b[0m",
      "\u001b[1;31mIndexError\u001b[0m                                Traceback (most recent call last)",
      "\u001b[1;32m<ipython-input-31-cb41c1e673e0>\u001b[0m in \u001b[0;36m<module>\u001b[1;34m()\u001b[0m\n\u001b[1;32m----> 1\u001b[1;33m \u001b[0mnatural_text\u001b[0m\u001b[1;33m.\u001b[0m\u001b[0mgroup_frequencies\u001b[0m\u001b[1;33m(\u001b[0m\u001b[1;36m4\u001b[0m\u001b[1;33m)\u001b[0m\u001b[1;33m\u001b[0m\u001b[0m\n\u001b[0m\u001b[0;32m      2\u001b[0m \u001b[1;32mfor\u001b[0m \u001b[0mi\u001b[0m \u001b[1;32min\u001b[0m \u001b[0mrange\u001b[0m\u001b[1;33m(\u001b[0m\u001b[1;36m1\u001b[0m\u001b[1;33m)\u001b[0m\u001b[1;33m:\u001b[0m\u001b[1;33m\u001b[0m\u001b[0m\n\u001b[0;32m      3\u001b[0m     \u001b[0mgroup\u001b[0m\u001b[1;33m.\u001b[0m\u001b[0mproliferate\u001b[0m\u001b[1;33m(\u001b[0m\u001b[0md_swap_maps\u001b[0m\u001b[1;33m,\u001b[0m\u001b[1;36m10\u001b[0m\u001b[1;33m)\u001b[0m\u001b[1;33m\u001b[0m\u001b[0m\n\u001b[0;32m      4\u001b[0m     \u001b[0mgroup\u001b[0m\u001b[1;33m.\u001b[0m\u001b[0mrank\u001b[0m\u001b[1;33m(\u001b[0m\u001b[0mtriplet_metric\u001b[0m\u001b[1;33m,\u001b[0m\u001b[1;36m10\u001b[0m\u001b[1;33m)\u001b[0m\u001b[1;33m\u001b[0m\u001b[0m\n\u001b[0;32m      5\u001b[0m \u001b[1;32mprint\u001b[0m \u001b[0mgroup\u001b[0m\u001b[1;33m.\u001b[0m\u001b[0mciphertexts\u001b[0m\u001b[1;33m[\u001b[0m\u001b[1;36m0\u001b[0m\u001b[1;33m]\u001b[0m\u001b[1;33m.\u001b[0m\u001b[0mtext_out\u001b[0m\u001b[1;33m(\u001b[0m\u001b[1;33m)\u001b[0m\u001b[1;33m\u001b[0m\u001b[0m\n",
      "\u001b[1;32mC:\\Users\\Paul Brookes\\Documents\\GitHub\\subcipher\\indices.pyc\u001b[0m in \u001b[0;36mgroup_frequencies\u001b[1;34m(self, number)\u001b[0m\n\u001b[0;32m     73\u001b[0m             \u001b[0mcounts\u001b[0m\u001b[1;33m[\u001b[0m\u001b[0mindices\u001b[0m\u001b[1;33m]\u001b[0m \u001b[1;33m+=\u001b[0m \u001b[1;36m1\u001b[0m\u001b[1;33m\u001b[0m\u001b[0m\n\u001b[0;32m     74\u001b[0m         \u001b[0mrates\u001b[0m \u001b[1;33m=\u001b[0m \u001b[0mcounts\u001b[0m\u001b[1;33m/\u001b[0m\u001b[1;33m(\u001b[0m\u001b[0mlen\u001b[0m\u001b[1;33m(\u001b[0m\u001b[0mself\u001b[0m\u001b[1;33m.\u001b[0m\u001b[0mtext_indices\u001b[0m\u001b[1;33m)\u001b[0m\u001b[1;33m+\u001b[0m\u001b[1;36m1\u001b[0m\u001b[1;33m-\u001b[0m\u001b[0mnumber\u001b[0m\u001b[1;33m)\u001b[0m\u001b[1;33m\u001b[0m\u001b[0m\n\u001b[1;32m---> 75\u001b[1;33m         \u001b[0mself\u001b[0m\u001b[1;33m.\u001b[0m\u001b[0mrates\u001b[0m\u001b[1;33m[\u001b[0m\u001b[0mnumber\u001b[0m\u001b[1;33m-\u001b[0m\u001b[1;36m1\u001b[0m\u001b[1;33m]\u001b[0m \u001b[1;33m=\u001b[0m \u001b[0mrates\u001b[0m\u001b[1;33m\u001b[0m\u001b[0m\n\u001b[0m\u001b[0;32m     76\u001b[0m         \u001b[1;32mreturn\u001b[0m \u001b[0mNone\u001b[0m\u001b[1;33m\u001b[0m\u001b[0m\n\u001b[0;32m     77\u001b[0m \u001b[1;33m\u001b[0m\u001b[0m\n",
      "\u001b[1;31mIndexError\u001b[0m: list assignment index out of range"
     ]
    }
   ],
   "source": [
    "natural_text.group_frequencies(4)\n",
    "for i in range(1):\n",
    "    group.proliferate(d_swap_maps,10)\n",
    "    group.rank(triplet_metric,10)\n",
    "print group.ciphertexts[0].text_out()\n",
    "print group.ciphertexts[0].map_record"
   ]
  },
  {
   "cell_type": "code",
   "execution_count": null,
   "metadata": {
    "collapsed": false
   },
   "outputs": [],
   "source": []
  },
  {
   "cell_type": "code",
   "execution_count": null,
   "metadata": {
    "collapsed": false
   },
   "outputs": [],
   "source": []
  },
  {
   "cell_type": "code",
   "execution_count": null,
   "metadata": {
    "collapsed": false
   },
   "outputs": [],
   "source": []
  },
  {
   "cell_type": "code",
   "execution_count": null,
   "metadata": {
    "collapsed": false
   },
   "outputs": [],
   "source": []
  },
  {
   "cell_type": "code",
   "execution_count": null,
   "metadata": {
    "collapsed": false
   },
   "outputs": [],
   "source": []
  },
  {
   "cell_type": "code",
   "execution_count": null,
   "metadata": {
    "collapsed": false
   },
   "outputs": [],
   "source": []
  },
  {
   "cell_type": "code",
   "execution_count": null,
   "metadata": {
    "collapsed": false
   },
   "outputs": [],
   "source": []
  },
  {
   "cell_type": "code",
   "execution_count": null,
   "metadata": {
    "collapsed": false
   },
   "outputs": [],
   "source": []
  },
  {
   "cell_type": "code",
   "execution_count": null,
   "metadata": {
    "collapsed": false
   },
   "outputs": [],
   "source": []
  },
  {
   "cell_type": "code",
   "execution_count": null,
   "metadata": {
    "collapsed": false
   },
   "outputs": [],
   "source": []
  },
  {
   "cell_type": "code",
   "execution_count": 3,
   "metadata": {
    "collapsed": false
   },
   "outputs": [],
   "source": [
    "ciphertexts = [sample2 for i in range(1)]\n",
    "ciphertexts[0].randomise()\n",
    "natural_sample.pair_frequencies()\n",
    "group = Indices_Group(ciphertexts, natural_sample)"
   ]
  },
  {
   "cell_type": "code",
   "execution_count": 5,
   "metadata": {
    "collapsed": false
   },
   "outputs": [
    {
     "name": "stdout",
     "output_type": "stream",
     "text": [
      "10000 loops, best of 3: 125 µs per loop\n"
     ]
    }
   ],
   "source": [
    "%%timeit\n",
    "group.ranking(pair_metric)"
   ]
  },
  {
   "cell_type": "code",
   "execution_count": 39,
   "metadata": {
    "collapsed": false
   },
   "outputs": [],
   "source": [
    "import numpy as np\n",
    "values = np.array([1,2,3,1,2,4,5,6,3,2,1])\n",
    "searchval = 3\n",
    "ii = np.where(values == searchval)[0]"
   ]
  },
  {
   "cell_type": "code",
   "execution_count": 40,
   "metadata": {
    "collapsed": false
   },
   "outputs": [
    {
     "data": {
      "text/plain": [
       "array([2, 8], dtype=int64)"
      ]
     },
     "execution_count": 40,
     "metadata": {},
     "output_type": "execute_result"
    }
   ],
   "source": [
    "ii"
   ]
  },
  {
   "cell_type": "code",
   "execution_count": 127,
   "metadata": {
    "collapsed": false
   },
   "outputs": [
    {
     "name": "stdout",
     "output_type": "stream",
     "text": [
      "[ 0.1552795   0.11180124  0.10559006  0.03726708  0.0621118   0.07453416\n",
      "  0.08074534  0.08074534  0.04968944  0.0310559   0.03726708  0.02484472\n",
      "  0.00621118  0.01863354  0.00621118  0.03726708  0.01242236  0.0310559\n",
      "  0.00621118  0.00621118  0.01242236  0.00621118  0.          0.          0.\n",
      "  0.          0.        ]\n"
     ]
    }
   ],
   "source": [
    "rates2 = original.rates[0]\n",
    "print rates2"
   ]
  },
  {
   "cell_type": "code",
   "execution_count": 130,
   "metadata": {
    "collapsed": false
   },
   "outputs": [],
   "source": [
    "rates[1] = 1.5"
   ]
  },
  {
   "cell_type": "code",
   "execution_count": 97,
   "metadata": {
    "collapsed": false
   },
   "outputs": [
    {
     "data": {
      "text/plain": [
       "[array([ 3, 10, 15], dtype=int64),\n",
       " array([6, 7], dtype=int64),\n",
       " array([ 9, 17], dtype=int64),\n",
       " array([12, 14, 18, 19, 21], dtype=int64),\n",
       " array([16, 20], dtype=int64)]"
      ]
     },
     "execution_count": 97,
     "metadata": {},
     "output_type": "execute_result"
    }
   ],
   "source": [
    "repeated_elements"
   ]
  },
  {
   "cell_type": "code",
   "execution_count": 131,
   "metadata": {
    "collapsed": false
   },
   "outputs": [
    {
     "data": {
      "text/plain": [
       "[array([0, 1], dtype=int64)]"
      ]
     },
     "execution_count": 131,
     "metadata": {},
     "output_type": "execute_result"
    }
   ],
   "source": [
    "repeat_indices(rates)"
   ]
  },
  {
   "cell_type": "code",
   "execution_count": 1,
   "metadata": {
    "collapsed": false
   },
   "outputs": [],
   "source": [
    "def repeat_indices(rates):\n",
    "    added = []\n",
    "    indices = []\n",
    "    repeated_elements = []\n",
    "    for x in rates:\n",
    "        if (x not in added and x !=0):\n",
    "            added.append(x)\n",
    "            indices.append(np.where(rates==x)[0])\n",
    "    for x in indices:\n",
    "        if len(x) != 1:\n",
    "            repeated_elements.append(x)\n",
    "    return repeated_elements\n",
    "\n",
    "def perm_maps(indices):\n",
    "    perms = itertools.permutations(indices)\n",
    "    subs = [np.array([indices,x]) for x in perms]\n",
    "    maps = [sub_to_map(sub) for sub in subs]\n",
    "    return maps\n",
    "\n",
    "def sub_to_map(sub):\n",
    "    map = np.arange(27)\n",
    "    for i in range(sub[0].size):\n",
    "        map[sub[0][i]] =  sub[1][i]\n",
    "    return map\n",
    "\n",
    "def substitute(map, s_map):\n",
    "    new_map = np.copy(map)\n",
    "    for i, x in enumerate(new_map):\n",
    "        new_map[i] = s_map[x]\n",
    "    return new_map\n",
    "\n",
    "def permute(old_maps, indices):\n",
    "    shuffle_maps = perm_maps(indices)\n",
    "    permuted_maps = []\n",
    "    for o_map in old_maps:\n",
    "        for s_map in shuffle_maps:\n",
    "            permuted_maps.append(substitute(o_map, s_map))\n",
    "    return permuted_maps\n",
    "        \n",
    "def grand_permute(map,rates):\n",
    "    maps = [map]\n",
    "    indices = repeat_indices(rates)\n",
    "    for index_set in indices:\n",
    "        maps = permute(maps, index_set)\n",
    "    return maps"
   ]
  },
  {
   "cell_type": "code",
   "execution_count": 134,
   "metadata": {
    "collapsed": false
   },
   "outputs": [],
   "source": [
    "rates = np.array([1,1,2,3,2,2])\n",
    "map = np.arange(6)\n",
    "new_maps = grand_permute(map,rates)"
   ]
  },
  {
   "cell_type": "code",
   "execution_count": 135,
   "metadata": {
    "collapsed": false
   },
   "outputs": [
    {
     "data": {
      "text/plain": [
       "[array([0, 1, 2, 3, 4, 5]),\n",
       " array([0, 1, 2, 3, 5, 4]),\n",
       " array([0, 1, 4, 3, 2, 5]),\n",
       " array([0, 1, 4, 3, 5, 2]),\n",
       " array([0, 1, 5, 3, 2, 4]),\n",
       " array([0, 1, 5, 3, 4, 2]),\n",
       " array([1, 0, 2, 3, 4, 5]),\n",
       " array([1, 0, 2, 3, 5, 4]),\n",
       " array([1, 0, 4, 3, 2, 5]),\n",
       " array([1, 0, 4, 3, 5, 2]),\n",
       " array([1, 0, 5, 3, 2, 4]),\n",
       " array([1, 0, 5, 3, 4, 2])]"
      ]
     },
     "execution_count": 135,
     "metadata": {},
     "output_type": "execute_result"
    }
   ],
   "source": [
    "new_maps"
   ]
  },
  {
   "cell_type": "code",
   "execution_count": 126,
   "metadata": {
    "collapsed": false
   },
   "outputs": [],
   "source": [
    "perms = itertools.permutations(indices)\n",
    "subs = [np.array([indices,x]) for x in perms]\n",
    "maps = [sub_to_map(sub) for sub in subs]"
   ]
  },
  {
   "cell_type": "code",
   "execution_count": 128,
   "metadata": {
    "collapsed": false
   },
   "outputs": [
    {
     "data": {
      "text/plain": [
       "array([ 1,  1,  2,  3,  4,  5,  6,  7,  8,  9, 10, 11, 12, 13, 14, 15, 16,\n",
       "       17, 18, 19, 20, 21, 22, 23, 24, 25, 26])"
      ]
     },
     "execution_count": 128,
     "metadata": {},
     "output_type": "execute_result"
    }
   ],
   "source": [
    "sub = np.array([[0,1],[0,1]])\n",
    "sub_to_map(sub)"
   ]
  },
  {
   "cell_type": "code",
   "execution_count": 129,
   "metadata": {
    "collapsed": false
   },
   "outputs": [],
   "source": [
    "def sub_to_map(sub):\n",
    "    map = np.arange(27)\n",
    "    for i in range(sub[0].size):\n",
    "        map[sub[0][i]] =  sub[1][i]\n",
    "    return map"
   ]
  },
  {
   "cell_type": "code",
   "execution_count": 130,
   "metadata": {
    "collapsed": false
   },
   "outputs": [
    {
     "data": {
      "text/plain": [
       "array([ 1,  1,  2,  3,  4,  5,  6,  7,  8,  9, 10, 11, 12, 13, 14, 15, 16,\n",
       "       17, 18, 19, 20, 21, 22, 23, 24, 25, 26])"
      ]
     },
     "execution_count": 130,
     "metadata": {},
     "output_type": "execute_result"
    }
   ],
   "source": [
    "sub_to_map(sub)"
   ]
  },
  {
   "cell_type": "code",
   "execution_count": 132,
   "metadata": {
    "collapsed": false
   },
   "outputs": [
    {
     "data": {
      "text/plain": [
       "[array([[0, 1],\n",
       "        [0, 1]]), array([[0, 1],\n",
       "        [1, 0]])]"
      ]
     },
     "execution_count": 132,
     "metadata": {},
     "output_type": "execute_result"
    }
   ],
   "source": [
    "subs"
   ]
  },
  {
   "cell_type": "code",
   "execution_count": 119,
   "metadata": {
    "collapsed": false
   },
   "outputs": [],
   "source": [
    "def sub_to_map(sub):\n",
    "    #print sub\n",
    "    map = np.arange(27)\n",
    "    for i in range(sub[0].size):\n",
    "        print map[sub[0][i]], sub[1][i]\n",
    "    #    map[subs[0][i]] = subs[1][i]\n",
    "    return map"
   ]
  },
  {
   "cell_type": "code",
   "execution_count": 121,
   "metadata": {
    "collapsed": false
   },
   "outputs": [
    {
     "name": "stdout",
     "output_type": "stream",
     "text": [
      "-1 1\n",
      "-1 0\n"
     ]
    }
   ],
   "source": [
    "map = np.arange(27)\n",
    "for i in range(subs[0].size):\n",
    "    map[i] = -1\n",
    "    print map[subs[0][i]], subs[1][i]\n",
    "    #map[subs[0][i]] = subs[1][i]"
   ]
  },
  {
   "cell_type": "code",
   "execution_count": null,
   "metadata": {
    "collapsed": false
   },
   "outputs": [],
   "source": []
  },
  {
   "cell_type": "code",
   "execution_count": null,
   "metadata": {
    "collapsed": false
   },
   "outputs": [],
   "source": []
  },
  {
   "cell_type": "code",
   "execution_count": null,
   "metadata": {
    "collapsed": false
   },
   "outputs": [],
   "source": []
  },
  {
   "cell_type": "code",
   "execution_count": null,
   "metadata": {
    "collapsed": false
   },
   "outputs": [],
   "source": []
  },
  {
   "cell_type": "code",
   "execution_count": null,
   "metadata": {
    "collapsed": false
   },
   "outputs": [],
   "source": []
  },
  {
   "cell_type": "code",
   "execution_count": null,
   "metadata": {
    "collapsed": false
   },
   "outputs": [],
   "source": []
  },
  {
   "cell_type": "code",
   "execution_count": null,
   "metadata": {
    "collapsed": false
   },
   "outputs": [],
   "source": []
  },
  {
   "cell_type": "code",
   "execution_count": null,
   "metadata": {
    "collapsed": false
   },
   "outputs": [],
   "source": []
  },
  {
   "cell_type": "code",
   "execution_count": null,
   "metadata": {
    "collapsed": false
   },
   "outputs": [],
   "source": []
  },
  {
   "cell_type": "code",
   "execution_count": null,
   "metadata": {
    "collapsed": false
   },
   "outputs": [],
   "source": []
  },
  {
   "cell_type": "code",
   "execution_count": null,
   "metadata": {
    "collapsed": false
   },
   "outputs": [],
   "source": []
  },
  {
   "cell_type": "code",
   "execution_count": null,
   "metadata": {
    "collapsed": false
   },
   "outputs": [],
   "source": []
  },
  {
   "cell_type": "code",
   "execution_count": null,
   "metadata": {
    "collapsed": false
   },
   "outputs": [],
   "source": []
  },
  {
   "cell_type": "code",
   "execution_count": null,
   "metadata": {
    "collapsed": false
   },
   "outputs": [],
   "source": []
  },
  {
   "cell_type": "code",
   "execution_count": null,
   "metadata": {
    "collapsed": false
   },
   "outputs": [],
   "source": []
  },
  {
   "cell_type": "code",
   "execution_count": null,
   "metadata": {
    "collapsed": true
   },
   "outputs": [],
   "source": []
  },
  {
   "cell_type": "code",
   "execution_count": null,
   "metadata": {
    "collapsed": false
   },
   "outputs": [],
   "source": []
  },
  {
   "cell_type": "code",
   "execution_count": null,
   "metadata": {
    "collapsed": false
   },
   "outputs": [],
   "source": []
  },
  {
   "cell_type": "code",
   "execution_count": null,
   "metadata": {
    "collapsed": true
   },
   "outputs": [],
   "source": []
  },
  {
   "cell_type": "code",
   "execution_count": null,
   "metadata": {
    "collapsed": false
   },
   "outputs": [],
   "source": []
  },
  {
   "cell_type": "code",
   "execution_count": null,
   "metadata": {
    "collapsed": true
   },
   "outputs": [],
   "source": []
  },
  {
   "cell_type": "code",
   "execution_count": 15,
   "metadata": {
    "collapsed": false
   },
   "outputs": [
    {
     "data": {
      "text/plain": [
       "array([273331, 874298, 260483, ..., 643502, 524890, 404036], dtype=int64)"
      ]
     },
     "execution_count": 15,
     "metadata": {},
     "output_type": "execute_result"
    }
   ],
   "source": [
    "a = np.arange(1000000)\n",
    "random.shuffle(a)\n",
    "np.argsort(a)"
   ]
  },
  {
   "cell_type": "code",
   "execution_count": 9,
   "metadata": {
    "collapsed": false
   },
   "outputs": [],
   "source": [
    "import random"
   ]
  },
  {
   "cell_type": "code",
   "execution_count": 10,
   "metadata": {
    "collapsed": true
   },
   "outputs": [],
   "source": [
    "a = np.arange(5)\n",
    "random.shuffle(a)"
   ]
  },
  {
   "cell_type": "code",
   "execution_count": 11,
   "metadata": {
    "collapsed": false
   },
   "outputs": [
    {
     "data": {
      "text/plain": [
       "array([1, 3, 0, 2, 4])"
      ]
     },
     "execution_count": 11,
     "metadata": {},
     "output_type": "execute_result"
    }
   ],
   "source": [
    "a"
   ]
  },
  {
   "cell_type": "code",
   "execution_count": null,
   "metadata": {
    "collapsed": true
   },
   "outputs": [],
   "source": []
  }
 ],
 "metadata": {
  "kernelspec": {
   "display_name": "Python 2",
   "language": "python",
   "name": "python2"
  },
  "language_info": {
   "codemirror_mode": {
    "name": "ipython",
    "version": 2
   },
   "file_extension": ".py",
   "mimetype": "text/x-python",
   "name": "python",
   "nbconvert_exporter": "python",
   "pygments_lexer": "ipython2",
   "version": "2.7.11"
  }
 },
 "nbformat": 4,
 "nbformat_minor": 0
}
